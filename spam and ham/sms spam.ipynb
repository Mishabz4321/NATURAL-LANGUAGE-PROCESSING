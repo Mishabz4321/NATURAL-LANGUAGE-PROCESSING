{
 "cells": [
  {
   "cell_type": "code",
   "execution_count": 290,
   "metadata": {},
   "outputs": [],
   "source": [
    "import pandas as pd\n",
    "import  numpy as np\n",
    "import matplotlib.pyplot as plt\n",
    "import seaborn as sns\n",
    "import nltk\n",
    "import string\n",
    "import re\n",
    "from nltk.corpus import stopwords\n",
    "from nltk.stem import WordNetLemmatizer\n",
    "from nltk.stem.porter import PorterStemmer\n",
    "from nltk.stem.snowball import SnowballStemmer"
   ]
  },
  {
   "cell_type": "code",
   "execution_count": 291,
   "metadata": {},
   "outputs": [
    {
     "data": {
      "text/html": [
       "<div>\n",
       "<style scoped>\n",
       "    .dataframe tbody tr th:only-of-type {\n",
       "        vertical-align: middle;\n",
       "    }\n",
       "\n",
       "    .dataframe tbody tr th {\n",
       "        vertical-align: top;\n",
       "    }\n",
       "\n",
       "    .dataframe thead th {\n",
       "        text-align: right;\n",
       "    }\n",
       "</style>\n",
       "<table border=\"1\" class=\"dataframe\">\n",
       "  <thead>\n",
       "    <tr style=\"text-align: right;\">\n",
       "      <th></th>\n",
       "      <th>v1</th>\n",
       "      <th>v2</th>\n",
       "      <th>Unnamed: 2</th>\n",
       "      <th>Unnamed: 3</th>\n",
       "      <th>Unnamed: 4</th>\n",
       "    </tr>\n",
       "  </thead>\n",
       "  <tbody>\n",
       "    <tr>\n",
       "      <th>0</th>\n",
       "      <td>ham</td>\n",
       "      <td>Go until jurong point, crazy.. Available only ...</td>\n",
       "      <td>NaN</td>\n",
       "      <td>NaN</td>\n",
       "      <td>NaN</td>\n",
       "    </tr>\n",
       "    <tr>\n",
       "      <th>1</th>\n",
       "      <td>ham</td>\n",
       "      <td>Ok lar... Joking wif u oni...</td>\n",
       "      <td>NaN</td>\n",
       "      <td>NaN</td>\n",
       "      <td>NaN</td>\n",
       "    </tr>\n",
       "    <tr>\n",
       "      <th>2</th>\n",
       "      <td>spam</td>\n",
       "      <td>Free entry in 2 a wkly comp to win FA Cup fina...</td>\n",
       "      <td>NaN</td>\n",
       "      <td>NaN</td>\n",
       "      <td>NaN</td>\n",
       "    </tr>\n",
       "    <tr>\n",
       "      <th>3</th>\n",
       "      <td>ham</td>\n",
       "      <td>U dun say so early hor... U c already then say...</td>\n",
       "      <td>NaN</td>\n",
       "      <td>NaN</td>\n",
       "      <td>NaN</td>\n",
       "    </tr>\n",
       "    <tr>\n",
       "      <th>4</th>\n",
       "      <td>ham</td>\n",
       "      <td>Nah I don't think he goes to usf, he lives aro...</td>\n",
       "      <td>NaN</td>\n",
       "      <td>NaN</td>\n",
       "      <td>NaN</td>\n",
       "    </tr>\n",
       "  </tbody>\n",
       "</table>\n",
       "</div>"
      ],
      "text/plain": [
       "     v1                                                 v2 Unnamed: 2  \\\n",
       "0   ham  Go until jurong point, crazy.. Available only ...        NaN   \n",
       "1   ham                      Ok lar... Joking wif u oni...        NaN   \n",
       "2  spam  Free entry in 2 a wkly comp to win FA Cup fina...        NaN   \n",
       "3   ham  U dun say so early hor... U c already then say...        NaN   \n",
       "4   ham  Nah I don't think he goes to usf, he lives aro...        NaN   \n",
       "\n",
       "  Unnamed: 3 Unnamed: 4  \n",
       "0        NaN        NaN  \n",
       "1        NaN        NaN  \n",
       "2        NaN        NaN  \n",
       "3        NaN        NaN  \n",
       "4        NaN        NaN  "
      ]
     },
     "execution_count": 291,
     "metadata": {},
     "output_type": "execute_result"
    }
   ],
   "source": [
    "df= pd.read_csv('spam.csv')\n",
    "df.head()"
   ]
  },
  {
   "cell_type": "markdown",
   "metadata": {},
   "source": [
    "### Cleaning Data"
   ]
  },
  {
   "cell_type": "code",
   "execution_count": 292,
   "metadata": {},
   "outputs": [],
   "source": [
    "df= df.iloc[:,:2]"
   ]
  },
  {
   "cell_type": "code",
   "execution_count": 293,
   "metadata": {},
   "outputs": [
    {
     "data": {
      "text/html": [
       "<div>\n",
       "<style scoped>\n",
       "    .dataframe tbody tr th:only-of-type {\n",
       "        vertical-align: middle;\n",
       "    }\n",
       "\n",
       "    .dataframe tbody tr th {\n",
       "        vertical-align: top;\n",
       "    }\n",
       "\n",
       "    .dataframe thead th {\n",
       "        text-align: right;\n",
       "    }\n",
       "</style>\n",
       "<table border=\"1\" class=\"dataframe\">\n",
       "  <thead>\n",
       "    <tr style=\"text-align: right;\">\n",
       "      <th></th>\n",
       "      <th>v1</th>\n",
       "      <th>v2</th>\n",
       "    </tr>\n",
       "  </thead>\n",
       "  <tbody>\n",
       "    <tr>\n",
       "      <th>0</th>\n",
       "      <td>ham</td>\n",
       "      <td>Go until jurong point, crazy.. Available only ...</td>\n",
       "    </tr>\n",
       "    <tr>\n",
       "      <th>1</th>\n",
       "      <td>ham</td>\n",
       "      <td>Ok lar... Joking wif u oni...</td>\n",
       "    </tr>\n",
       "    <tr>\n",
       "      <th>2</th>\n",
       "      <td>spam</td>\n",
       "      <td>Free entry in 2 a wkly comp to win FA Cup fina...</td>\n",
       "    </tr>\n",
       "    <tr>\n",
       "      <th>3</th>\n",
       "      <td>ham</td>\n",
       "      <td>U dun say so early hor... U c already then say...</td>\n",
       "    </tr>\n",
       "    <tr>\n",
       "      <th>4</th>\n",
       "      <td>ham</td>\n",
       "      <td>Nah I don't think he goes to usf, he lives aro...</td>\n",
       "    </tr>\n",
       "  </tbody>\n",
       "</table>\n",
       "</div>"
      ],
      "text/plain": [
       "     v1                                                 v2\n",
       "0   ham  Go until jurong point, crazy.. Available only ...\n",
       "1   ham                      Ok lar... Joking wif u oni...\n",
       "2  spam  Free entry in 2 a wkly comp to win FA Cup fina...\n",
       "3   ham  U dun say so early hor... U c already then say...\n",
       "4   ham  Nah I don't think he goes to usf, he lives aro..."
      ]
     },
     "execution_count": 293,
     "metadata": {},
     "output_type": "execute_result"
    }
   ],
   "source": [
    "df.head()"
   ]
  },
  {
   "cell_type": "code",
   "execution_count": 294,
   "metadata": {},
   "outputs": [
    {
     "data": {
      "text/html": [
       "<div>\n",
       "<style scoped>\n",
       "    .dataframe tbody tr th:only-of-type {\n",
       "        vertical-align: middle;\n",
       "    }\n",
       "\n",
       "    .dataframe tbody tr th {\n",
       "        vertical-align: top;\n",
       "    }\n",
       "\n",
       "    .dataframe thead th {\n",
       "        text-align: right;\n",
       "    }\n",
       "</style>\n",
       "<table border=\"1\" class=\"dataframe\">\n",
       "  <thead>\n",
       "    <tr style=\"text-align: right;\">\n",
       "      <th></th>\n",
       "      <th>label</th>\n",
       "      <th>sms</th>\n",
       "    </tr>\n",
       "  </thead>\n",
       "  <tbody>\n",
       "    <tr>\n",
       "      <th>0</th>\n",
       "      <td>ham</td>\n",
       "      <td>Go until jurong point, crazy.. Available only ...</td>\n",
       "    </tr>\n",
       "    <tr>\n",
       "      <th>1</th>\n",
       "      <td>ham</td>\n",
       "      <td>Ok lar... Joking wif u oni...</td>\n",
       "    </tr>\n",
       "    <tr>\n",
       "      <th>2</th>\n",
       "      <td>spam</td>\n",
       "      <td>Free entry in 2 a wkly comp to win FA Cup fina...</td>\n",
       "    </tr>\n",
       "    <tr>\n",
       "      <th>3</th>\n",
       "      <td>ham</td>\n",
       "      <td>U dun say so early hor... U c already then say...</td>\n",
       "    </tr>\n",
       "    <tr>\n",
       "      <th>4</th>\n",
       "      <td>ham</td>\n",
       "      <td>Nah I don't think he goes to usf, he lives aro...</td>\n",
       "    </tr>\n",
       "  </tbody>\n",
       "</table>\n",
       "</div>"
      ],
      "text/plain": [
       "  label                                                sms\n",
       "0   ham  Go until jurong point, crazy.. Available only ...\n",
       "1   ham                      Ok lar... Joking wif u oni...\n",
       "2  spam  Free entry in 2 a wkly comp to win FA Cup fina...\n",
       "3   ham  U dun say so early hor... U c already then say...\n",
       "4   ham  Nah I don't think he goes to usf, he lives aro..."
      ]
     },
     "execution_count": 294,
     "metadata": {},
     "output_type": "execute_result"
    }
   ],
   "source": [
    "df= df.rename(columns={'v1':'label', 'v2':'sms'})\n",
    "df.head()"
   ]
  },
  {
   "cell_type": "code",
   "execution_count": 295,
   "metadata": {},
   "outputs": [
    {
     "name": "stdout",
     "output_type": "stream",
     "text": [
      "<class 'pandas.core.frame.DataFrame'>\n",
      "RangeIndex: 5572 entries, 0 to 5571\n",
      "Data columns (total 2 columns):\n",
      " #   Column  Non-Null Count  Dtype \n",
      "---  ------  --------------  ----- \n",
      " 0   label   5572 non-null   object\n",
      " 1   sms     5572 non-null   object\n",
      "dtypes: object(2)\n",
      "memory usage: 87.2+ KB\n"
     ]
    }
   ],
   "source": [
    "df.info()"
   ]
  },
  {
   "cell_type": "code",
   "execution_count": 296,
   "metadata": {},
   "outputs": [
    {
     "data": {
      "text/plain": [
       "(5572, 2)"
      ]
     },
     "execution_count": 296,
     "metadata": {},
     "output_type": "execute_result"
    }
   ],
   "source": [
    "df.shape"
   ]
  },
  {
   "cell_type": "code",
   "execution_count": 297,
   "metadata": {},
   "outputs": [
    {
     "data": {
      "text/plain": [
       "ham     4825\n",
       "spam     747\n",
       "Name: label, dtype: int64"
      ]
     },
     "execution_count": 297,
     "metadata": {},
     "output_type": "execute_result"
    }
   ],
   "source": [
    "df['label'].value_counts()"
   ]
  },
  {
   "cell_type": "code",
   "execution_count": 298,
   "metadata": {},
   "outputs": [
    {
     "name": "stderr",
     "output_type": "stream",
     "text": [
      "/opt/anaconda3/lib/python3.7/site-packages/seaborn/_decorators.py:43: FutureWarning: Pass the following variable as a keyword arg: x. From version 0.12, the only valid positional argument will be `data`, and passing other arguments without an explicit keyword will result in an error or misinterpretation.\n",
      "  FutureWarning\n"
     ]
    },
    {
     "data": {
      "text/plain": [
       "<AxesSubplot:xlabel='label', ylabel='count'>"
      ]
     },
     "execution_count": 298,
     "metadata": {},
     "output_type": "execute_result"
    },
    {
     "data": {
      "image/png": "[encoded data removed]",
      "text/plain": [
       "<Figure size 432x288 with 1 Axes>"
      ]
     },
     "metadata": {
      "needs_background": "light"
     },
     "output_type": "display_data"
    }
   ],
   "source": [
    "sns.countplot(df['label'])"
   ]
  },
  {
   "cell_type": "markdown",
   "metadata": {},
   "source": [
    "#### Its clear that more than 85 % of messages are ham and only around 13 % messages are spam. So the data seems imbalanced"
   ]
  },
  {
   "cell_type": "code",
   "execution_count": 299,
   "metadata": {},
   "outputs": [
    {
     "data": {
      "text/html": [
       "<div>\n",
       "<style scoped>\n",
       "    .dataframe tbody tr th:only-of-type {\n",
       "        vertical-align: middle;\n",
       "    }\n",
       "\n",
       "    .dataframe tbody tr th {\n",
       "        vertical-align: top;\n",
       "    }\n",
       "\n",
       "    .dataframe thead th {\n",
       "        text-align: right;\n",
       "    }\n",
       "</style>\n",
       "<table border=\"1\" class=\"dataframe\">\n",
       "  <thead>\n",
       "    <tr style=\"text-align: right;\">\n",
       "      <th></th>\n",
       "      <th>count</th>\n",
       "      <th>unique</th>\n",
       "      <th>top</th>\n",
       "      <th>freq</th>\n",
       "    </tr>\n",
       "  </thead>\n",
       "  <tbody>\n",
       "    <tr>\n",
       "      <th>label</th>\n",
       "      <td>5572</td>\n",
       "      <td>2</td>\n",
       "      <td>ham</td>\n",
       "      <td>4825</td>\n",
       "    </tr>\n",
       "    <tr>\n",
       "      <th>sms</th>\n",
       "      <td>5572</td>\n",
       "      <td>5169</td>\n",
       "      <td>Sorry, I'll call later</td>\n",
       "      <td>30</td>\n",
       "    </tr>\n",
       "  </tbody>\n",
       "</table>\n",
       "</div>"
      ],
      "text/plain": [
       "      count unique                     top  freq\n",
       "label  5572      2                     ham  4825\n",
       "sms    5572   5169  Sorry, I'll call later    30"
      ]
     },
     "execution_count": 299,
     "metadata": {},
     "output_type": "execute_result"
    }
   ],
   "source": [
    "df.describe().T"
   ]
  },
  {
   "cell_type": "code",
   "execution_count": 300,
   "metadata": {},
   "outputs": [],
   "source": [
    "# creating a column that gives lengh of sms\n",
    "df['text_length']= df['sms'].apply(len)"
   ]
  },
  {
   "cell_type": "code",
   "execution_count": 301,
   "metadata": {},
   "outputs": [
    {
     "data": {
      "text/html": [
       "<div>\n",
       "<style scoped>\n",
       "    .dataframe tbody tr th:only-of-type {\n",
       "        vertical-align: middle;\n",
       "    }\n",
       "\n",
       "    .dataframe tbody tr th {\n",
       "        vertical-align: top;\n",
       "    }\n",
       "\n",
       "    .dataframe thead th {\n",
       "        text-align: right;\n",
       "    }\n",
       "</style>\n",
       "<table border=\"1\" class=\"dataframe\">\n",
       "  <thead>\n",
       "    <tr style=\"text-align: right;\">\n",
       "      <th></th>\n",
       "      <th>label</th>\n",
       "      <th>sms</th>\n",
       "      <th>text_length</th>\n",
       "    </tr>\n",
       "  </thead>\n",
       "  <tbody>\n",
       "    <tr>\n",
       "      <th>0</th>\n",
       "      <td>ham</td>\n",
       "      <td>Go until jurong point, crazy.. Available only ...</td>\n",
       "      <td>111</td>\n",
       "    </tr>\n",
       "    <tr>\n",
       "      <th>1</th>\n",
       "      <td>ham</td>\n",
       "      <td>Ok lar... Joking wif u oni...</td>\n",
       "      <td>29</td>\n",
       "    </tr>\n",
       "    <tr>\n",
       "      <th>2</th>\n",
       "      <td>spam</td>\n",
       "      <td>Free entry in 2 a wkly comp to win FA Cup fina...</td>\n",
       "      <td>155</td>\n",
       "    </tr>\n",
       "    <tr>\n",
       "      <th>3</th>\n",
       "      <td>ham</td>\n",
       "      <td>U dun say so early hor... U c already then say...</td>\n",
       "      <td>49</td>\n",
       "    </tr>\n",
       "    <tr>\n",
       "      <th>4</th>\n",
       "      <td>ham</td>\n",
       "      <td>Nah I don't think he goes to usf, he lives aro...</td>\n",
       "      <td>61</td>\n",
       "    </tr>\n",
       "  </tbody>\n",
       "</table>\n",
       "</div>"
      ],
      "text/plain": [
       "  label                                                sms  text_length\n",
       "0   ham  Go until jurong point, crazy.. Available only ...          111\n",
       "1   ham                      Ok lar... Joking wif u oni...           29\n",
       "2  spam  Free entry in 2 a wkly comp to win FA Cup fina...          155\n",
       "3   ham  U dun say so early hor... U c already then say...           49\n",
       "4   ham  Nah I don't think he goes to usf, he lives aro...           61"
      ]
     },
     "execution_count": 301,
     "metadata": {},
     "output_type": "execute_result"
    }
   ],
   "source": [
    "df.head()"
   ]
  },
  {
   "cell_type": "code",
   "execution_count": 302,
   "metadata": {},
   "outputs": [
    {
     "data": {
      "text/plain": [
       "<AxesSubplot:xlabel='text_length', ylabel='Count'>"
      ]
     },
     "execution_count": 302,
     "metadata": {},
     "output_type": "execute_result"
    },
    {
     "data": {
      "image/png": "[encoded data removed]",
      "text/plain": [
       "<Figure size 864x576 with 1 Axes>"
      ]
     },
     "metadata": {
      "needs_background": "light"
     },
     "output_type": "display_data"
    }
   ],
   "source": [
    "plt.figure(figsize=(12,8))\n",
    "sns.histplot(data=df, x='text_length', bins=50, kde=True)"
   ]
  },
  {
   "cell_type": "markdown",
   "metadata": {},
   "source": [
    "#### Most of the message's length is round 0 and 200\n",
    "#### There are few messages with large length ( above 200 )"
   ]
  },
  {
   "cell_type": "code",
   "execution_count": 303,
   "metadata": {},
   "outputs": [
    {
     "name": "stderr",
     "output_type": "stream",
     "text": [
      "/opt/anaconda3/lib/python3.7/site-packages/pandas/plotting/_matplotlib/tools.py:400: MatplotlibDeprecationWarning: \n",
      "The is_first_col function was deprecated in Matplotlib 3.4 and will be removed two minor releases later. Use ax.get_subplotspec().is_first_col() instead.\n",
      "  if ax.is_first_col():\n"
     ]
    },
    {
     "data": {
      "text/plain": [
       "array([<AxesSubplot:title={'center':'ham'}>,\n",
       "       <AxesSubplot:title={'center':'spam'}>], dtype=object)"
      ]
     },
     "execution_count": 303,
     "metadata": {},
     "output_type": "execute_result"
    },
    {
     "data": {
      "image/png": "[encoded data removed]",
      "text/plain": [
       "<Figure size 1008x288 with 2 Axes>"
      ]
     },
     "metadata": {
      "needs_background": "light"
     },
     "output_type": "display_data"
    }
   ],
   "source": [
    "df.hist(column='text_length', by='label', bins=50,figsize=(14,4))"
   ]
  },
  {
   "cell_type": "markdown",
   "metadata": {},
   "source": [
    "### Its clear that the length of the most ham messages is around 100 while spam messages is around 150"
   ]
  },
  {
   "cell_type": "markdown",
   "metadata": {},
   "source": [
    "#### We need a way to represent text data for machine learning algorithm and the bag-of-words model helps us to achieve that task. It is a way of extracting features from the text for use in machine learning algorithms.\n",
    "\n",
    "#### In this approach, we use the tokenized words for each observation and find out the frequency of each token.\n",
    "\n",
    "#### Using a process which we will go through now, we can convert a collection of documents to a matrix, with each document being a row and each word(token) being the column, and the corresponding (row,column) values being the frequency of occurrence of each word or token in that document\n",
    "\n",
    "### Our objective here is to convert this set of text or messages to a frequency distribution matrix"
   ]
  },
  {
   "cell_type": "markdown",
   "metadata": {},
   "source": [
    "### To handle this, we will be using sklearns count vectorizer method which does the following:\n",
    "\n",
    "### 1) It tokenizes the string(separates the string into individual words) and gives an integer ID to each token.\n",
    "### 2) It counts the occurrence of each of those tokens"
   ]
  },
  {
   "cell_type": "markdown",
   "metadata": {},
   "source": [
    "## Implementation of Bag of Words Approach"
   ]
  },
  {
   "cell_type": "code",
   "execution_count": 304,
   "metadata": {},
   "outputs": [],
   "source": [
    "lem= WordNetLemmatizer()\n",
    "def message_text_process(mess):\n",
    "    # lowercase letters\n",
    "    lowered_doc= [d.lower() for d in mess]\n",
    "    # removing all punctuation\n",
    "    no_punctuation = [char for char in lowered_doc if char not in string.punctuation]\n",
    "    no_punctuation = ''.join(no_punctuation)\n",
    "    # removing all chars except alphabets\n",
    "    no_punctuation= re.sub('[^a-zA-Z]',' ',no_punctuation)\n",
    "    # token, lowering letters and removing stop words\n",
    "    return [lem.lemmatize(word) for word in no_punctuation.split() if word.lower() \n",
    "            not in stopwords.words('english')]"
   ]
  },
  {
   "cell_type": "code",
   "execution_count": 305,
   "metadata": {},
   "outputs": [
    {
     "data": {
      "text/plain": [
       "0    [go, jurong, point, crazy, available, bugis, n...\n",
       "1                       [ok, lar, joking, wif, u, oni]\n",
       "2    [free, entry, wkly, comp, win, fa, cup, final,...\n",
       "3        [u, dun, say, early, hor, u, c, already, say]\n",
       "4    [nah, dont, think, go, usf, life, around, though]\n",
       "Name: sms, dtype: object"
      ]
     },
     "execution_count": 305,
     "metadata": {},
     "output_type": "execute_result"
    }
   ],
   "source": [
    "df['sms'].head(5).apply(message_text_process)"
   ]
  },
  {
   "cell_type": "code",
   "execution_count": 306,
   "metadata": {},
   "outputs": [
    {
     "data": {
      "text/html": [
       "<div>\n",
       "<style scoped>\n",
       "    .dataframe tbody tr th:only-of-type {\n",
       "        vertical-align: middle;\n",
       "    }\n",
       "\n",
       "    .dataframe tbody tr th {\n",
       "        vertical-align: top;\n",
       "    }\n",
       "\n",
       "    .dataframe thead th {\n",
       "        text-align: right;\n",
       "    }\n",
       "</style>\n",
       "<table border=\"1\" class=\"dataframe\">\n",
       "  <thead>\n",
       "    <tr style=\"text-align: right;\">\n",
       "      <th></th>\n",
       "      <th>label</th>\n",
       "      <th>sms</th>\n",
       "      <th>text_length</th>\n",
       "    </tr>\n",
       "  </thead>\n",
       "  <tbody>\n",
       "    <tr>\n",
       "      <th>0</th>\n",
       "      <td>ham</td>\n",
       "      <td>Go until jurong point, crazy.. Available only ...</td>\n",
       "      <td>111</td>\n",
       "    </tr>\n",
       "    <tr>\n",
       "      <th>1</th>\n",
       "      <td>ham</td>\n",
       "      <td>Ok lar... Joking wif u oni...</td>\n",
       "      <td>29</td>\n",
       "    </tr>\n",
       "    <tr>\n",
       "      <th>2</th>\n",
       "      <td>spam</td>\n",
       "      <td>Free entry in 2 a wkly comp to win FA Cup fina...</td>\n",
       "      <td>155</td>\n",
       "    </tr>\n",
       "    <tr>\n",
       "      <th>3</th>\n",
       "      <td>ham</td>\n",
       "      <td>U dun say so early hor... U c already then say...</td>\n",
       "      <td>49</td>\n",
       "    </tr>\n",
       "    <tr>\n",
       "      <th>4</th>\n",
       "      <td>ham</td>\n",
       "      <td>Nah I don't think he goes to usf, he lives aro...</td>\n",
       "      <td>61</td>\n",
       "    </tr>\n",
       "    <tr>\n",
       "      <th>...</th>\n",
       "      <td>...</td>\n",
       "      <td>...</td>\n",
       "      <td>...</td>\n",
       "    </tr>\n",
       "    <tr>\n",
       "      <th>5567</th>\n",
       "      <td>spam</td>\n",
       "      <td>This is the 2nd time we have tried 2 contact u...</td>\n",
       "      <td>160</td>\n",
       "    </tr>\n",
       "    <tr>\n",
       "      <th>5568</th>\n",
       "      <td>ham</td>\n",
       "      <td>Will �_ b going to esplanade fr home?</td>\n",
       "      <td>37</td>\n",
       "    </tr>\n",
       "    <tr>\n",
       "      <th>5569</th>\n",
       "      <td>ham</td>\n",
       "      <td>Pity, * was in mood for that. So...any other s...</td>\n",
       "      <td>57</td>\n",
       "    </tr>\n",
       "    <tr>\n",
       "      <th>5570</th>\n",
       "      <td>ham</td>\n",
       "      <td>The guy did some bitching but I acted like i'd...</td>\n",
       "      <td>125</td>\n",
       "    </tr>\n",
       "    <tr>\n",
       "      <th>5571</th>\n",
       "      <td>ham</td>\n",
       "      <td>Rofl. Its true to its name</td>\n",
       "      <td>26</td>\n",
       "    </tr>\n",
       "  </tbody>\n",
       "</table>\n",
       "<p>5572 rows × 3 columns</p>\n",
       "</div>"
      ],
      "text/plain": [
       "     label                                                sms  text_length\n",
       "0      ham  Go until jurong point, crazy.. Available only ...          111\n",
       "1      ham                      Ok lar... Joking wif u oni...           29\n",
       "2     spam  Free entry in 2 a wkly comp to win FA Cup fina...          155\n",
       "3      ham  U dun say so early hor... U c already then say...           49\n",
       "4      ham  Nah I don't think he goes to usf, he lives aro...           61\n",
       "...    ...                                                ...          ...\n",
       "5567  spam  This is the 2nd time we have tried 2 contact u...          160\n",
       "5568   ham              Will �_ b going to esplanade fr home?           37\n",
       "5569   ham  Pity, * was in mood for that. So...any other s...           57\n",
       "5570   ham  The guy did some bitching but I acted like i'd...          125\n",
       "5571   ham                         Rofl. Its true to its name           26\n",
       "\n",
       "[5572 rows x 3 columns]"
      ]
     },
     "execution_count": 306,
     "metadata": {},
     "output_type": "execute_result"
    }
   ],
   "source": [
    "df"
   ]
  },
  {
   "cell_type": "code",
   "execution_count": 307,
   "metadata": {},
   "outputs": [],
   "source": [
    "from sklearn.model_selection import train_test_split\n",
    "X_train, X_test, y_train, y_test = train_test_split(df['sms'], \n",
    "                                                    df['label'],test_size=0.20, \n",
    "                                                    random_state=1)"
   ]
  },
  {
   "cell_type": "code",
   "execution_count": 308,
   "metadata": {},
   "outputs": [
    {
     "name": "stdout",
     "output_type": "stream",
     "text": [
      "(4457,) (1115,)\n"
     ]
    }
   ],
   "source": [
    "print(X_train.shape, X_test.shape)"
   ]
  },
  {
   "cell_type": "code",
   "execution_count": 309,
   "metadata": {},
   "outputs": [],
   "source": [
    "from sklearn.feature_extraction.text import CountVectorizer\n",
    "count_vector = CountVectorizer(analyzer=message_text_process)"
   ]
  },
  {
   "cell_type": "code",
   "execution_count": 310,
   "metadata": {},
   "outputs": [
    {
     "data": {
      "text/plain": [
       "CountVectorizer(analyzer=<function message_text_process at 0x14a10aa70>)"
      ]
     },
     "execution_count": 310,
     "metadata": {},
     "output_type": "execute_result"
    }
   ],
   "source": [
    "count_vector.fit(X_train)"
   ]
  },
  {
   "cell_type": "code",
   "execution_count": 311,
   "metadata": {},
   "outputs": [
    {
     "name": "stdout",
     "output_type": "stream",
     "text": [
      "6948\n"
     ]
    }
   ],
   "source": [
    "print(len(count_vector.vocabulary_))"
   ]
  },
  {
   "cell_type": "code",
   "execution_count": 312,
   "metadata": {},
   "outputs": [
    {
     "name": "stdout",
     "output_type": "stream",
     "text": [
      "['aah', 'aaooooright', 'aathilove', 'aathiwhere', 'ab', 'abbey', 'abdomen', 'abeg', 'abel', 'aberdeen', 'abi', 'ability', 'abiola', 'abj', 'able', 'abnormally', 'aboutas', 'abroad', 'absolutely', 'abstract', 'abt', 'abta', 'aburo', 'abuse', 'abuser', 'ac', 'academic', 'acc', 'accent', 'accenture', 'accept', 'access', 'accessible', 'accidant', 'accident', 'accidentally', 'accommodation', 'accommodationvouchers', 'accomodate', 'accomodations', 'accordin', 'accordingly', 'account', 'accounting', 'accumulation', 'achanammarakheshqatar', 'ache', 'acid', 'acl', 'acnt', 'acoentry', 'across', 'acsmsrewards', 'acted', 'actin', 'acting', 'action', 'activ', 'activate', 'active', 'activity', 'actor', 'actual', 'actually', 'acwicmb', 'ad', 'adam', 'add', 'addamsfa', 'added', 'addicted', 'addie', 'adding', 'address', 'addressull', 'adi', 'adjustable', 'admin', 'administrator', 'admirer', 'admission', 'adore', 'adoring', 'adp', 'adress', 'adrian', 'adsense', 'adult', 'advance', 'adventure', 'adventuring', 'advice', 'advise', 'advisor', 'ae', 'aeronautics', 'aeroplane', 'afew', 'affair', 'affection', 'affectionate', 'affectionsamp', 'affidavit', 'afford', 'afghanistan', 'afraid', 'african', 'aft', 'afternoon', 'afterwards', 'aftr', 'ag', 'againcall', 'againloving', 'agalla', 'age', 'agency', 'agent', 'agesring', 'agidhane', 'aging', 'ago', 'agocusoon', 'agree', 'agreen', 'ah', 'aha', 'ahead', 'ahgee', 'ahhh', 'ahhhhjust', 'ahmad', 'ahnow', 'ahold', 'ahsen', 'ahwhat', 'aid', 'aig', 'aight', 'aint', 'air', 'airport', 'airtel', 'aiya', 'aiyah', 'aiyar', 'aiyo', 'aj', 'ajith', 'ak', 'aka', 'al', 'alaipayuthe', 'album', 'albumquite', 'alcohol', 'aldrine', 'alert', 'alertfrom', 'alex', 'alexs', 'alfie', 'algarve', 'algebra', 'algorithm', 'ali', 'alian', 'alibi', 'alive', 'alivebetter', 'allah', 'allahmeet', 'allahrakhesh', 'allalo', 'allday', 'alle', 'allow', 'allowed', 'allows', 'alls', 'almost', 'alone', 'along', 'alot', 'already', 'alreadysabarish', 'alright', 'alrightokay', 'alrite', 'alritehave', 'also', 'alsoor', 'alter', 'alternativehope', 'although', 'alwa', 'always', 'alwys', 'amanda', 'amazing', 'ambitious', 'ambrithmaduraimet', 'american', 'ami', 'amigo', 'amk', 'ammo', 'among', 'amongst', 'amore', 'amount', 'amp', 'amplikater', 'amrca', 'amt', 'amused', 'amx', 'amy', 'an', 'ana', 'analysis', 'anderson', 'andre', 'andres', 'andros', 'anetworks', 'angel', 'angry', 'animal', 'animation', 'anjie', 'anjolas', 'anna', 'annie', 'anniversary', 'annoncement', 'announced', 'announcement', 'annoyin', 'annoying', 'anonymous', 'anot', 'another', 'ansr', 'answer', 'answered', 'answerin', 'answering', 'answr', 'antelope', 'anthony', 'anti', 'antibiotic', 'anybody', 'anybodys', 'anyhow', 'anymore', 'anyone', 'anyones', 'anyplaces', 'anythiing', 'anythin', 'anything', 'anythings', 'anythingtomorrow', 'anytime', 'anyway', 'anyways', 'anywhere', 'aom', 'apart', 'apartment', 'ape', 'apeshit', 'aphex', 'apnt', 'apo', 'apologetic', 'apologise', 'apology', 'app', 'apparently', 'appeal', 'appendix', 'applebees', 'appledayno', 'applespairsall', 'application', 'apply', 'applyed', 'applying', 'appointment', 'appreciate', 'appreciated', 'approach', 'approaching', 'appropriate', 'approved', 'approx', 'apps', 'appt', 'appy', 'april', 'aproach', 'apt', 'aquarius', 'ar', 'arab', 'arabian', 'arcade', 'archive', 'ard', 'area', 'arent', 'aretaking', 'argh', 'argue', 'arguing', 'argument', 'aries', 'arises', 'arm', 'armand', 'armands', 'armenia', 'arng', 'arnt', 'around', 'arrange', 'arrested', 'arrival', 'arrive', 'arrived', 'arrow', 'arsenal', 'art', 'artist', 'arty', 'arul', 'arun', 'as', 'asa', 'asap', 'asapok', 'asda', 'ash', 'ashley', 'ashleys', 'ashwini', 'asia', 'asian', 'ask', 'askd', 'asked', 'askin', 'asking', 'asks', 'asleep', 'assessment', 'asshole', 'assistance', 'associate', 'assume', 'assumed', 'asthere', 'astne', 'astrology', 'astronomer', 'asus', 'asusual', 'ate', 'athome', 'atlanta', 'atlast', 'atleast', 'atm', 'atrocious', 'attach', 'attached', 'attempt', 'atten', 'attend', 'attended', 'attending', 'attention', 'attitude', 'attractioni', 'attractive', 'attracts', 'attributed', 'auction', 'auctionpunj', 'audiitions', 'audition', 'audrey', 'audreys', 'audrie', 'august', 'aunt', 'auntie', 'aunty', 'aust', 'australia', 'authorise', 'auto', 'autocorrect', 'av', 'available', 'availablei', 'availablethey', 'avalarr', 'avatar', 'avble', 'ave', 'avenge', 'avent', 'avenue', 'avo', 'avoid', 'avoiding', 'avoids', 'await', 'awaiting', 'awake', 'award', 'awarded', 'away', 'awesome', 'awkward', 'aww', 'awww', 'ax', 'axis', 'ayn', 'ayo', 'b', 'ba', 'baaaaaaaabe', 'baaaaabe', 'babe', 'babesozi', 'baby', 'babygoodbye', 'babyhope', 'babyjontet', 'babysit', 'bac', 'back', 'backa', 'backdoor', 'backwards', 'bad', 'badass', 'badly', 'badrith', 'bag', 'bagi', 'bahamas', 'baig', 'bailiff', 'bajarangabali', 'bak', 'bakra', 'bakrid', 'balance', 'ball', 'balloon', 'bam', 'bambling', 'ban', 'band', 'bandage', 'bang', 'bangb', 'bangbabes', 'bank', 'banned', 'banneduk', 'banter', 'bao', 'bar', 'barbie', 'bare', 'barely', 'barkley', 'barmed', 'barolla', 'barred', 'barrel', 'barring', 'barry', 'base', 'bash', 'basic', 'basically', 'basketball', 'basqihave', 'bat', 'batch', 'batchlor', 'bath', 'bathe', 'bathing', 'batsman', 'batt', 'battery', 'bawling', 'bay', 'bb', 'bbdeluxe', 'bbdpooja', 'bblue', 'bbq', 'bc', 'bcaz', 'bck', 'bcm', 'bcmsfwc', 'bcoz', 'bcozi', 'bcum', 'bcums', 'bcz', 'bday', 'beach', 'bead', 'bear', 'beating', 'beautiful', 'beautifulmay', 'beauty', 'becaus', 'become', 'becomes', 'becoz', 'becz', 'bed', 'bedrm', 'bedroom', 'bedroomlove', 'beehoon', 'beendropping', 'beer', 'beerage', 'beerrs', 'befor', 'beforewent', 'beg', 'beggar', 'begging', 'begin', 'begun', 'behalf', 'behave', 'behind', 'bein', 'believe', 'belive', 'bell', 'bellearlier', 'belligerent', 'belly', 'belong', 'belongs', 'belovd', 'beloved', 'belt', 'ben', 'bend', 'beneath', 'beneficiary', 'benefit', 'benny', 'bergkamp', 'beside', 'best', 'bestcongrats', 'bestrply', 'bet', 'beta', 'beth', 'betta', 'better', 'bettersn', 'bevieswaz', 'beware', 'beyond', 'bf', 'bffs', 'bhamb', 'bhaskar', 'bian', 'biatch', 'bid', 'big', 'bigger', 'biggest', 'bike', 'bill', 'billed', 'billing', 'billion', 'billy', 'bilo', 'bin', 'bird', 'birla', 'biro', 'birth', 'birthdate', 'birthday', 'bishan', 'bit', 'bitch', 'bitching', 'bite', 'biz', 'bk', 'black', 'blackand', 'blackberry', 'blacko', 'blah', 'blake', 'blame', 'blank', 'blanked', 'blanket', 'bleh', 'bless', 'blessed', 'blessget', 'blessing', 'blimey', 'blind', 'block', 'blocked', 'blog', 'blogging', 'bloke', 'blonde', 'bloo', 'bloodblood', 'bloodsend', 'bloody', 'bloomberg', 'bloombergcom', 'blow', 'blowing', 'blu', 'blue', 'bluetooth', 'bluetoothhdset', 'bluff', 'blur', 'bluray', 'bmw', 'board', 'boat', 'boatin', 'bob', 'body', 'boggy', 'bognor', 'bold', 'bollox', 'bomb', 'bone', 'bonus', 'boo', 'boob', 'book', 'booked', 'bookedthe', 'booking', 'bookshelf', 'boooo', 'boost', 'booty', 'bootydelious', 'bored', 'borin', 'boring', 'born', 'bornplease', 'borrow', 'bos', 'boston', 'bother', 'bothering', 'bottle', 'bottom', 'bought', 'boundary', 'bout', 'boutxx', 'bowa', 'bowl', 'box', 'boy', 'boye', 'boyf', 'boyfriend', 'boytoy', 'boyy', 'bp', 'bpo', 'bra', 'brah', 'brain', 'braindance', 'brainless', 'brainy', 'brand', 'brandy', 'bray', 'brdget', 'bread', 'breadstick', 'break', 'breaker', 'breakin', 'breaking', 'breath', 'breathe', 'breather', 'breathing', 'breeze', 'breezy', 'bremovedmobypobox', 'bribe', 'bridge', 'bridgwater', 'brief', 'bright', 'brighten', 'brilliant', 'brilliantly', 'brin', 'bring', 'bringing', 'brings', 'brison', 'bristol', 'british', 'britney', 'bro', 'broad', 'broadband', 'broke', 'broken', 'brolly', 'bros', 'broth', 'brothas', 'brother', 'brought', 'brownie', 'browse', 'browser', 'browsin', 'bruce', 'brum', 'bruv', 'bslvyl', 'bsnl', 'bstfrnd', 'bt', 'bthmm', 'btnational', 'btnationalrate', 'btooth', 'btw', 'buck', 'bud', 'buddy', 'budget', 'buen', 'buff', 'buffet', 'buffy', 'bugis', 'build', 'building', 'bulb', 'bull', 'bullshit', 'bun', 'bunch', 'bundle', 'bunker', 'burden', 'burger', 'burgundy', 'burial', 'burn', 'burning', 'burnt', 'burrito', 'bus', 'busetop', 'business', 'busy', 'butt', 'buttheres', 'button', 'buy', 'buyer', 'buying', 'buzy', 'buzz', 'buzzzz', 'bw', 'bx', 'byatch', 'bye', 'c', 'cab', 'cabin', 'cable', 'cafe', 'cage', 'cake', 'caken', 'cal', 'calculated', 'calculation', 'cali', 'calicut', 'california', 'call', 'callback', 'callcost', 'callcoz', 'calld', 'calldrove', 'called', 'caller', 'callertune', 'callfreefone', 'callin', 'calling', 'callingforgot', 'callon', 'callsmessagesmissed', 'callurgent', 'calm', 'cam', 'camcorder', 'came', 'camera', 'cameravideo', 'camp', 'campus', 'camry', 'canada', 'canal', 'canary', 'cancel', 'canceled', 'cancer', 'candont', 'canlove', 'canname', 'cannot', 'cannt', 'cant', 'cantdo', 'canteen', 'cap', 'capacity', 'capital', 'cappuccino', 'captain', 'captaining', 'car', 'card', 'cardiff', 'cardin', 'care', 'cared', 'career', 'careful', 'carefully', 'careinsha', 'careless', 'carente', 'careswt', 'careumma', 'caring', 'carlie', 'carlin', 'carlos', 'carlosll', 'carly', 'carolina', 'caroline', 'carpark', 'carry', 'carryin', 'carso', 'cartoon', 'case', 'cash', 'cashbalance', 'cashbincouk', 'cashed', 'cashin', 'cashto', 'casing', 'cast', 'casting', 'castor', 'casualty', 'cat', 'catch', 'catching', 'category', 'caught', 'cause', 'causing', 'cave', 'caveboy', 'cbe', 'cc', 'ccna', 'cd', 'cdgt', 'cedar', 'celeb', 'celebrate', 'celebrated', 'celebration', 'cell', 'census', 'center', 'centre', 'cer', 'certainly', 'certificate', 'cfca', 'ch', 'cha', 'chachi', 'chad', 'chain', 'challenge', 'challenging', 'champ', 'champlaxigating', 'champneys', 'chance', 'change', 'changed', 'changing', 'channel', 'chap', 'chapel', 'chapter', 'character', 'charge', 'charged', 'charity', 'charles', 'charlie', 'charming', 'chart', 'chase', 'chasing', 'chastity', 'chat', 'chatim', 'chatlines', 'chatter', 'chatting', 'cheap', 'cheaper', 'cheat', 'cheating', 'chechi', 'check', 'checkboxes', 'checked', 'checkin', 'checking', 'checkmate', 'checkup', 'cheek', 'cheer', 'cheered', 'cheery', 'cheetos', 'chennai', 'chennaibecause', 'chennaii', 'cheque', 'cherish', 'chess', 'chest', 'chex', 'cheyyamoand', 'chez', 'chg', 'chick', 'chicken', 'chief', 'chik', 'chikku', 'chikkuali', 'chikkub', 'chikkudb', 'chikkuil', 'chikkuk', 'chikkusimple', 'chikkuwat', 'child', 'childish', 'childporn', 'chile', 'chill', 'chillin', 'china', 'chinatown', 'chinchilla', 'chinese', 'chiong', 'chip', 'chitchat', 'chk', 'chocolate', 'choice', 'choose', 'choosing', 'chop', 'chord', 'chore', 'chosen', 'christ', 'christian', 'christmas', 'christmasmerry', 'christmassy', 'chuck', 'chuckin', 'church', 'ciao', 'cin', 'cine', 'cinema', 'citizen', 'city', 'citylink', 'cktz', 'cl', 'claim', 'claimcode', 'claire', 'clarification', 'clarify', 'clas', 'clash', 'class', 'classic', 'claypot', 'cld', 'clean', 'cleaning', 'clear', 'clearer', 'clearing', 'clearly', 'clever', 'click', 'cliff', 'clip', 'clock', 'clos', 'close', 'closeby', 'closed', 'closedincluding', 'closer', 'closingdate', 'cloth', 'cloud', 'clover', 'club', 'clue', 'cm', 'cme', 'cmon', 'cn', 'cncl', 'cnn', 'co', 'coast', 'coat', 'coaxing', 'cocacola', 'cochin', 'cock', 'coco', 'code', 'coffee', 'coimbatore', 'coin', 'coincidence', 'cold', 'colin', 'collage', 'colleague', 'collect', 'collected', 'collecting', 'collection', 'colleg', 'college', 'collegexx', 'colour', 'colourredtextcolourtxtstar', 'com', 'comb', 'combination', 'combine', 'come', 'comedy', 'comedycant', 'comei', 'cometil', 'comfey', 'comfort', 'comin', 'coming', 'comingdown', 'command', 'comment', 'commercial', 'commit', 'common', 'community', 'comp', 'company', 'compare', 'compass', 'competition', 'complain', 'complaint', 'complementary', 'complete', 'completed', 'completely', 'completes', 'completing', 'complexity', 'compliment', 'complimentary', 'compofstuff', 'comprehensive', 'compulsory', 'computational', 'computer', 'computerless', 'comuk', 'con', 'conacted', 'concentrate', 'concentrating', 'concern', 'concerned', 'concert', 'conclusion', 'condition', 'conduct', 'conected', 'conference', 'confidence', 'confirm', 'confirmd', 'confirmed', 'conform', 'confused', 'confuses', 'congrats', 'congratulation', 'connect', 'connected', 'connection', 'consensus', 'consent', 'conserve', 'consider', 'considering', 'console', 'constant', 'constantly', 'contact', 'contacted', 'contains', 'content', 'contented', 'contention', 'continent', 'continue', 'continued', 'contract', 'contribute', 'control', 'convenience', 'conversation', 'converted', 'converter', 'convey', 'conveying', 'convinced', 'convincing', 'convincingjust', 'cook', 'cooked', 'cooking', 'cooky', 'cool', 'cooperative', 'cop', 'coping', 'copy', 'cornwall', 'corporation', 'corrct', 'correct', 'correction', 'correctly', 'corrupt', 'corvette', 'cosign', 'cost', 'costa', 'costing', 'costume', 'cougarpen', 'cough', 'coughing', 'couk', 'coukgames', 'coukwavewaveaspo', 'could', 'coulda', 'couldnt', 'count', 'countin', 'countinlots', 'country', 'coupla', 'couple', 'courage', 'course', 'courtroom', 'cousin', 'cover', 'coveragd', 'coz', 'cozsomtimes', 'cozy', 'cps', 'cr', 'crack', 'craigslist', 'crammed', 'cramp', 'crap', 'crash', 'crashed', 'crashing', 'crave', 'craving', 'craziest', 'crazy', 'crazyin', 'cream', 'created', 'creative', 'creativity', 'cred', 'credit', 'credited', 'creep', 'creepy', 'cribbs', 'cricket', 'cricketer', 'crickiting', 'cried', 'cro', 'crore', 'cross', 'crossing', 'crowd', 'croydon', 'crucify', 'cruel', 'cruise', 'cruisin', 'crush', 'cry', 'cst', 'cstore', 'ctagg', 'ctargg', 'cthen', 'ctla', 'cttargg', 'ctter', 'cttergg', 'cuck', 'cud', 'cuddle', 'cuddled', 'cuddling', 'cudnt', 'culdnt', 'cum', 'cumin', 'cumming', 'cup', 'cupboard', 'curious', 'current', 'currently', 'curry', 'curtsey', 'cust', 'custcare', 'custom', 'customer', 'customercare', 'customersqueriesnetvisionukcom', 'cut', 'cute', 'cutefrnd', 'cutest', 'cutie', 'cutter', 'cutting', 'cuz', 'cw', 'cya', 'cyclist', 'cyst', 'da', 'daalways', 'dabbles', 'dabooks', 'dad', 'daddy', 'dado', 'dagood', 'dahe', 'dahow', 'dai', 'daily', 'dajst', 'dammit', 'damn', 'dan', 'danalla', 'dancce', 'dance', 'dancin', 'dancing', 'dane', 'dang', 'danger', 'dangerous', 'dare', 'dark', 'darker', 'darkest', 'darkness', 'darlin', 'darling', 'darlinim', 'darren', 'dartboard', 'dasara', 'dat', 'data', 'date', 'dating', 'datingi', 'datoday', 'daurgent', 'dave', 'dawhats', 'dawn', 'day', 'dayexcept', 'dayhas', 'dayshe', 'daysso', 'dayswill', 'dayu', 'daywith', 'db', 'dd', 'de', 'dead', 'deal', 'dealer', 'dealing', 'dear', 'dearer', 'deari', 'dearloving', 'dearly', 'dearrakhesh', 'dearregret', 'dearshall', 'dearslp', 'deary', 'death', 'debating', 'dec', 'decade', 'december', 'decent', 'decide', 'decided', 'deciding', 'decimal', 'decision', 'deck', 'decking', 'decorating', 'dedicate', 'dedicated', 'deduct', 'deep', 'deepak', 'deepest', 'deer', 'deeraj', 'def', 'defeat', 'defer', 'definite', 'definitely', 'degree', 'dehydrated', 'dehydration', 'del', 'delayed', 'delete', 'deleted', 'delhi', 'deliver', 'delivered', 'deliveredtomorrow', 'delivery', 'deltomorrow', 'deluxe', 'dem', 'den', 'dena', 'dengra', 'denis', 'dent', 'dental', 'dentist', 'denying', 'department', 'dependent', 'depends', 'deposited', 'depressed', 'depression', 'der', 'derek', 'dereks', 'derp', 'describe', 'description', 'desert', 'deserve', 'designation', 'desire', 'desk', 'desparate', 'desparately', 'desperate', 'despite', 'dessert', 'detail', 'detailed', 'detailsi', 'determine', 'detroit', 'deus', 'develop', 'developed', 'developer', 'device', 'devil', 'devouring', 'dey', 'dha', 'dhina', 'dhoni', 'dhorte', 'di', 'dial', 'dialling', 'dialogue', 'diamond', 'diaper', 'dice', 'dick', 'dict', 'dictionary', 'didnt', 'didntgive', 'didt', 'die', 'died', 'diesel', 'diet', 'dieting', 'diff', 'differ', 'differbe', 'difference', 'different', 'difficult', 'difficulty', 'dificult', 'digi', 'digit', 'digital', 'dignity', 'dileepthank', 'dime', 'din', 'dine', 'dined', 'dinero', 'ding', 'dining', 'dinner', 'dinnermsg', 'dint', 'dip', 'dippeditinadew', 'direct', 'directly', 'director', 'dirt', 'dirty', 'dis', 'disagreeable', 'disappeared', 'disappointment', 'disaster', 'disastrous', 'disc', 'disclose', 'disconnect', 'disconnected', 'discount', 'discreet', 'discus', 'discussed', 'disease', 'diskyou', 'dislike', 'dismay', 'dismissial', 'display', 'distance', 'distract', 'disturb', 'disturbing', 'ditto', 'divert', 'division', 'divorce', 'diwali', 'dl', 'dled', 'dload', 'dnt', 'dob', 'dobby', 'dobbys', 'doc', 'dock', 'doctor', 'document', 'dodda', 'dodgey', 'doesdiscountshitinnit', 'doesnt', 'dog', 'dogg', 'doggin', 'dogging', 'doggy', 'dogwood', 'doin', 'doinat', 'doinghow', 'doke', 'dokey', 'doll', 'dollar', 'dolld', 'dom', 'donate', 'done', 'donewant', 'donno', 'dont', 'dontcha', 'donyt', 'doom', 'door', 'dorm', 'dormitory', 'dorothykiefercom', 'dose', 'dot', 'double', 'doublefaggot', 'doublemins', 'doubletxt', 'doubt', 'doug', 'dough', 'down', 'download', 'downloaded', 'downloads', 'downon', 'downstem', 'dozen', 'dp', 'dracula', 'drama', 'dramastorms', 'dramatic', 'draw', 'drawplease', 'dreading', 'dream', 'dreamlove', 'dreamsmuah', 'dreamsu', 'dress', 'dressed', 'dresser', 'drink', 'drinkin', 'drinking', 'drive', 'driver', 'drivin', 'driving', 'drop', 'dropped', 'drove', 'drpd', 'drug', 'drugdealer', 'drum', 'drunk', 'drunkard', 'drunken', 'drvgsto', 'dry', 'dryer', 'dsnt', 'dt', 'dual', 'dub', 'dubsack', 'duchess', 'ducking', 'dude', 'dudette', 'due', 'duffer', 'dull', 'dumb', 'dun', 'dungerees', 'dunno', 'duo', 'durban', 'durham', 'dusk', 'dust', 'dvd', 'dx', 'dying', 'dysentry', 'e', 'ea', 'ear', 'earlier', 'earlierwe', 'earliest', 'early', 'earn', 'earth', 'earthsofa', 'easier', 'easily', 'eastenders', 'easter', 'easy', 'eat', 'eaten', 'eatin', 'eating', 'ebay', 'ec', 'ecef', 'echo', 'eckankar', 'ecstacy', 'edge', 'edhae', 'edison', 'edition', 'edrunk', 'education', 'educational', 'edukkukayee', 'edward', 'ee', 'eek', 'eerie', 'eerulli', 'effect', 'efficient', 'efreefone', 'eg', 'egg', 'eggpotato', 'ego', 'eh', 'eight', 'eighth', 'eightish', 'eire', 'either', 'el', 'ela', 'elaborate', 'elaine', 'elama', 'elaya', 'eldest', 'election', 'electricity', 'eleven', 'elliot', 'else', 'elsewhere', 'elvis', 'em', 'email', 'embarassed', 'embarassing', 'embarrassed', 'embassy', 'emergency', 'emerging', 'emily', 'emotion', 'employee', 'employer', 'empty', 'en', 'enamous', 'enc', 'end', 'ended', 'ending', 'endless', 'enemy', 'energy', 'eng', 'engagement', 'engalnd', 'engin', 'england', 'english', 'enjoy', 'enjoyed', 'enjoyin', 'enjoying', 'enketa', 'enna', 'ennal', 'enough', 'enter', 'entered', 'enters', 'entertain', 'entertaining', 'entey', 'entire', 'entirely', 'entitled', 'entrepreneur', 'entropication', 'entry', 'enuff', 'envelope', 'envy', 'epi', 'epsilon', 'equally', 'er', 'ericson', 'ericsson', 'erm', 'erotic', 'err', 'error', 'eruku', 'erything', 'esaplanade', 'escape', 'ese', 'eshxxxxxxxxxxx', 'especially', 'espell', 'esplanade', 'essay', 'essential', 'establish', 'eta', 'etc', 'eternal', 'ethnicity', 'ethreats', 'ettans', 'euro', 'eurodisinc', 'europe', 'eva', 'evaluation', 'evaporated', 'eve', 'eveb', 'evei', 'even', 'evening', 'event', 'eventually', 'ever', 'every', 'everybody', 'everybodys', 'everyday', 'everyone', 'everyso', 'everything', 'everytime', 'everywhere', 'evey', 'evil', 'evn', 'evng', 'evo', 'evone', 'evr', 'evrey', 'evry', 'evrydy', 'ew', 'ex', 'exact', 'exactly', 'exam', 'excellent', 'except', 'excited', 'exciting', 'excuse', 'excused', 'exe', 'executive', 'exercise', 'exeter', 'exhaust', 'exhausted', 'exhibition', 'exist', 'exmpel', 'exorcism', 'exorcist', 'expect', 'expected', 'expecting', 'expects', 'expensive', 'experience', 'experiencehttpwwwvouch', 'experiment', 'expert', 'expired', 'expiredso', 'expires', 'expiry', 'explain', 'explicit', 'explicitly', 'explosive', 'expose', 'express', 'expression', 'ext', 'extra', 'extract', 'extreme', 'exwife', 'ey', 'eye', 'ez', 'f', 'fa', 'fab', 'face', 'faceasssssholeeee', 'facebook', 'facility', 'fact', 'factory', 'faded', 'faglord', 'failed', 'failing', 'fails', 'failure', 'fair', 'faith', 'faithevening', 'fake', 'fakemy', 'fakeyes', 'fal', 'fall', 'fallen', 'falling', 'fals', 'famamus', 'familiar', 'family', 'famous', 'fan', 'fancied', 'fancy', 'fantastic', 'fantasy', 'far', 'farm', 'farrell', 'fassyole', 'fast', 'faster', 'fastest', 'fastpls', 'fat', 'fated', 'father', 'fathima', 'fatty', 'fault', 'fav', 'fave', 'favor', 'favorite', 'favour', 'favourite', 'fb', 'feathery', 'feature', 'feb', 'febapril', 'february', 'fedex', 'fee', 'feed', 'feel', 'feelin', 'feeling', 'feelingwavering', 'fell', 'fellow', 'felt', 'female', 'feng', 'festival', 'fetch', 'fetching', 'fever', 'ff', 'fffff', 'ffffffffff', 'ffffuuuuuuu', 'fgkslpo', 'fgkslpopw', 'fidalfication', 'field', 'fieldof', 'fiendmake', 'fifa', 'fifteen', 'fifty', 'fight', 'fighting', 'fightng', 'figure', 'figuring', 'fil', 'file', 'fill', 'filled', 'filling', 'film', 'filth', 'filthy', 'filthyguys', 'final', 'finalise', 'finally', 'finance', 'find', 'finding', 'fine', 'fineabsolutly', 'fineinshah', 'finest', 'finewhen', 'finger', 'finish', 'finished', 'finishing', 'fink', 'fire', 'firefox', 'fireplace', 'firesare', 'firmware', 'firsg', 'first', 'firsttrue', 'fish', 'fishhead', 'fishrman', 'fit', 'fiting', 'five', 'fix', 'fixd', 'fixed', 'fixedline', 'fizz', 'fl', 'flag', 'flaked', 'flaky', 'flame', 'flash', 'flat', 'flatter', 'flavour', 'flea', 'fletcher', 'flew', 'flight', 'flim', 'flip', 'flippin', 'flirt', 'flirting', 'floating', 'floor', 'floppy', 'florida', 'flow', 'flower', 'flowing', 'fluid', 'flung', 'flurry', 'flute', 'fly', 'flyim', 'flyng', 'fml', 'fmyou', 'fo', 'foley', 'folk', 'follow', 'followed', 'followin', 'following', 'follows', 'fond', 'fondly', 'fone', 'foned', 'fones', 'food', 'fool', 'fooled', 'foot', 'football', 'footblcrckt', 'footie', 'footy', 'force', 'forced', 'foregate', 'foreign', 'forever', 'forevr', 'forfeit', 'forget', 'forgets', 'forgive', 'forgiven', 'forgiveness', 'forgot', 'forgotten', 'forgt', 'form', 'formal', 'formallypls', 'format', 'formatting', 'formclark', 'formsdon', 'forth', 'forum', 'forward', 'forwarded', 'forwarding', 'found', 'four', 'foward', 'fowler', 'fr', 'fraction', 'fran', 'frankgood', 'frankie', 'franxx', 'franyxxxxx', 'fraud', 'freak', 'freaking', 'free', 'freedom', 'freefone', 'freek', 'freely', 'freemessage', 'freemsg', 'freemsgfav', 'freemsgfeelin', 'freenokia', 'freephone', 'freeringtone', 'freesend', 'freezing', 'fren', 'french', 'frens', 'frequently', 'fresh', 'fresher', 'fret', 'fri', 'friday', 'fridayhope', 'fridge', 'friend', 'friendofafriend', 'friendsare', 'friendship', 'friendshipmotherfatherteacherschildrens', 'fring', 'fringe', 'frm', 'frnd', 'frnds', 'frndship', 'frndshp', 'frndz', 'frog', 'fromm', 'front', 'frontierville', 'frying', 'ft', 'fuck', 'fucked', 'fuckin', 'fucking', 'fudge', 'fuelled', 'fujitsu', 'ful', 'fulfil', 'full', 'fullonsmscom', 'fumbling', 'fun', 'function', 'fund', 'fundamental', 'funeral', 'funk', 'funky', 'funny', 'furniture', 'fusion', 'future', 'fuuuuck', 'fwd', 'fwiw', 'fyi', 'g', 'ga', 'gail', 'gailxx', 'gain', 'gal', 'galcan', 'galileo', 'galno', 'galsu', 'gam', 'game', 'gamestar', 'gandhipuram', 'ganesh', 'gang', 'gap', 'garage', 'garbage', 'garden', 'gardener', 'garment', 'gary', 'gas', 'gastroenteritis', 'gate', 'gauge', 'gautham', 'gave', 'gay', 'gayle', 'gaytextbuddycom', 'gaze', 'gb', 'gbp', 'gbpmnth', 'gbpmtmsg', 'gbpweek', 'gbpwk', 'gd', 'gdnow', 'gdthe', 'ge', 'gee', 'geeee', 'geeeee', 'geelater', 'gei', 'gek', 'gender', 'gene', 'general', 'generally', 'genius', 'gent', 'gentle', 'gentleman', 'gently', 'genuine', 'genus', 'geoenvironmental', 'george', 'gep', 'ger', 'germany', 'get', 'getha', 'getiing', 'geting', 'getstop', 'gettin', 'getting', 'getzedcouk', 'geva', 'gf', 'ghodbandar', 'ghost', 'gibbs', 'gift', 'gifted', 'giggle', 'gigolo', 'gimme', 'gin', 'girl', 'girld', 'girlfrnd', 'girlie', 'gist', 'giv', 'give', 'given', 'giving', 'givits', 'glad', 'gland', 'glasgow', 'glass', 'glo', 'global', 'glorious', 'glory', 'gloucesterroad', 'gm', 'gmgngegn', 'gmw', 'gn', 'gnarl', 'go', 'goa', 'goal', 'gobi', 'god', 'godi', 'godid', 'godnot', 'godyou', 'goggles', 'goin', 'going', 'gokila', 'gold', 'golddigger', 'golf', 'gona', 'gone', 'goneu', 'gong', 'gonna', 'gonnamissu', 'good', 'gooddhanush', 'goodenvironment', 'goodevening', 'goodfine', 'goodfriend', 'goodmate', 'goodmorning', 'goodmorningmy', 'goodnight', 'goodnite', 'goodnoon', 'goodo', 'goody', 'google', 'gopalettan', 'gorgeous', 'gosh', 'gossip', 'got', 'gota', 'gotany', 'goten', 'goto', 'gotta', 'gotten', 'gotto', 'goverment', 'govtinstituitions', 'gowait', 'gower', 'gprs', 'gpu', 'gr', 'grab', 'grace', 'graduated', 'grahmbell', 'gram', 'gran', 'grand', 'grandfather', 'grandma', 'granite', 'granted', 'graphic', 'grasp', 'grave', 'gravel', 'gravity', 'gravy', 'gray', 'grazed', 'gre', 'great', 'greatbhaji', 'greatbye', 'greatest', 'greatly', 'greatness', 'greece', 'green', 'greet', 'greeting', 'grief', 'grin', 'grinder', 'grinule', 'grl', 'grocer', 'groovy', 'groovying', 'ground', 'groundamla', 'group', 'grow', 'growing', 'grown', 'grownup', 'growrandom', 'grr', 'grumble', 'gsex', 'gsoh', 'gt', 'gthr', 'guai', 'guaranteed', 'gud', 'gudk', 'gudni', 'gudnite', 'gudnitetcpractice', 'guess', 'guessed', 'guessin', 'guessing', 'guidance', 'guide', 'guild', 'guilty', 'guitar', 'guoyang', 'gurl', 'gut', 'guy', 'gv', 'gving', 'gwr', 'gym', 'gymnastics', 'gynae', 'gyno', 'h', 'ha', 'habbahw', 'habit', 'hack', 'hadnt', 'hadya', 'haf', 'haha', 'hahahause', 'hahatake', 'hai', 'hail', 'hair', 'haircut', 'haiz', 'half', 'hall', 'halla', 'hallaq', 'halloween', 'ham', 'hamster', 'hand', 'handed', 'handing', 'handle', 'handset', 'handsome', 'handsomes', 'hanger', 'hangin', 'hanging', 'hank', 'hannaford', 'hanuman', 'hanumanji', 'happen', 'happend', 'happened', 'happenin', 'happening', 'happens', 'happiest', 'happily', 'happiness', 'happy', 'hard', 'hardcore', 'harder', 'hardly', 'hari', 'harishs', 'harlem', 'harri', 'harry', 'hasbroin', 'hasnt', 'hassling', 'hat', 'hate', 'haughaighgtujhyguj', 'haul', 'haunt', 'hav', 'hava', 'havent', 'haventcn', 'havin', 'havnt', 'hb', 'hcl', 'hdd', 'he', 'head', 'headache', 'headin', 'heading', 'headset', 'headstart', 'heal', 'healthy', 'hear', 'heard', 'hearin', 'hearing', 'heart', 'hearted', 'heartgn', 'heartheart', 'heartsnot', 'heat', 'heater', 'heaven', 'heavily', 'heavy', 'hee', 'heehee', 'height', 'held', 'helen', 'hell', 'hella', 'hello', 'hellodrivby', 'helloed', 'hellogorgeous', 'helloooo', 'helloyou', 'help', 'helpful', 'helping', 'helpline', 'heltiniiyo', 'hen', 'hence', 'henry', 'hep', 'herepls', 'hereremember', 'heri', 'herlove', 'hermy', 'hero', 'heroi', 'heron', 'hershe', 'herwho', 'herwill', 'hesitant', 'hesitate', 'hesitation', 'hex', 'hey', 'hgsuite', 'hhahhaahahah', 'hi', 'hicts', 'hide', 'hidid', 'hiding', 'high', 'highest', 'hii', 'hilariousalso', 'hill', 'himthen', 'hint', 'hip', 'hire', 'hisher', 'history', 'hit', 'hitechnical', 'hitler', 'hitman', 'hitteranyway', 'hittng', 'hiya', 'hl', 'hlday', 'hlp', 'hm', 'hme', 'hmm', 'hmmbad', 'hmmm', 'hmmmbut', 'hmmmhow', 'hmmmkbut', 'hmmmm', 'hmmmstill', 'hmmmy', 'hmv', 'ho', 'hockey', 'hogidhechinnu', 'hogli', 'hogolo', 'hol', 'holby', 'hold', 'holder', 'holding', 'holiday', 'holidayso', 'holla', 'hollalater', 'hols', 'holy', 'home', 'homebut', 'homecheck', 'homeleft', 'homelove', 'homeowner', 'homewot', 'hon', 'honest', 'honestly', 'honesty', 'honey', 'honeybee', 'honeymoon', 'honi', 'hont', 'hoo', 'hooch', 'hoody', 'hook', 'hooked', 'hoop', 'hop', 'hope', 'hopeafternoon', 'hoped', 'hopefully', 'hopeing', 'hopeu', 'hoping', 'hor', 'horniest', 'horny', 'horo', 'horrible', 'horse', 'hospital', 'hostbased', 'hostel', 'hostile', 'hot', 'hotel', 'hotmix', 'hottest', 'hour', 'hourish', 'house', 'housemaid', 'housewife', 'housing', 'howard', 'howda', 'howdy', 'however', 'howre', 'hows', 'howve', 'howz', 'hp', 'hppnss', 'hr', 'hrishi', 'hsbc', 'html', 'httpalto', 'httpcareers', 'httpdoit', 'httpimg', 'httptms', 'httpwap', 'httpwwwetlpcoukexpressoffer', 'httpwwwetlpcoukreward', 'httpwwwurawinnercom', 'httpwwwwtlpcouktext', 'hu', 'huai', 'hubby', 'hug', 'huge', 'hugging', 'hugh', 'huh', 'hui', 'huiming', 'hum', 'human', 'humanity', 'hun', 'hundred', 'hundredhe', 'hungry', 'hunlove', 'hunny', 'hunnyhope', 'hunnywot', 'hunonbus', 'hunt', 'hunting', 'hurried', 'hurry', 'hurt', 'husband', 'hussey', 'hustle', 'hut', 'hv', 'hvae', 'hw', 'hwd', 'hwkeep', 'hyde', 'hypertension', 'hypotheticalhuagauahahuagahyuhagga', 'ia', 'iam', 'ibh', 'ibhltd', 'ibiza', 'ibn', 'ibored', 'ibuprofen', 'ic', 'iccha', 'ice', 'icic', 'icicibankcom', 'icky', 'icon', 'id', 'idc', 'idconvey', 'idea', 'ideal', 'identification', 'identifier', 'idiot', 'idk', 'idp', 'idu', 'ie', 'iff', 'ifwhenhow', 'ig', 'ignore', 'ijust', 'ikea', 'ikno', 'il', 'ill', 'illness', 'ilol', 'im', 'ima', 'image', 'imaginationmy', 'imagine', 'imat', 'imf', 'imin', 'imma', 'immed', 'immediately', 'immunisation', 'imp', 'impatient', 'implication', 'important', 'importantly', 'impossible', 'impress', 'impressed', 'impressively', 'improve', 'improved', 'imprtant', 'inc', 'inch', 'incident', 'inclu', 'include', 'includes', 'including', 'inclusive', 'incomm', 'inconsiderate', 'inconvenience', 'inconvenient', 'incorrect', 'increase', 'incredible', 'increment', 'inde', 'indeed', 'independence', 'independently', 'india', 'indian', 'indicate', 'individual', 'individualtime', 'indyarockscom', 'inever', 'infection', 'infernal', 'influx', 'info', 'inforingtonekingcouk', 'inform', 'information', 'informed', 'infotxt', 'infovipclub', 'infowww', 'infra', 'infront', 'ingredient', 'initiate', 'ink', 'inlude', 'inmind', 'inner', 'inning', 'innocent', 'innu', 'inperialmusic', 'inpersonation', 'inr', 'insect', 'insha', 'inshah', 'inside', 'inst', 'install', 'installation', 'installing', 'instant', 'instantly', 'instead', 'instruction', 'insurance', 'intelligent', 'intention', 'interest', 'interested', 'interesting', 'interflora', 'interfued', 'internal', 'internet', 'internetservice', 'interview', 'interviw', 'intha', 'intimate', 'intrepid', 'intro', 'intrude', 'invader', 'invention', 'invest', 'invitation', 'invite', 'invited', 'inviting', 'invnted', 'invoice', 'iouri', 'ip', 'ipad', 'ipaditan', 'iphone', 'ipod', 'iq', 'iraq', 'iriver', 'iron', 'irritated', 'irritates', 'irritating', 'irritation', 'irulinae', 'isare', 'iscoming', 'ish', 'ishtamayoohappy', 'island', 'islove', 'isnt', 'issue', 'italian', 'itboth', 'itcould', 'item', 'iter', 'itjust', 'itleave', 'itlet', 'itll', 'itna', 'itnow', 'itplspls', 'itsnot', 'ittb', 'itu', 'itwhichturnedinto', 'itxt', 'itxx', 'itz', 'ivatte', 'ive', 'iwana', 'iz', 'izzit', 'j', 'ja', 'jabo', 'jack', 'jacket', 'jackpot', 'jackson', 'jacuzzi', 'jada', 'jade', 'jaklin', 'jam', 'james', 'jamster', 'jamstercouk', 'jamsterget', 'jan', 'janarige', 'jane', 'january', 'janx', 'jap', 'japanese', 'jason', 'java', 'jay', 'jaya', 'jaz', 'jazz', 'jd', 'je', 'jealous', 'jean', 'jeetey', 'jeevithathile', 'jelly', 'jen', 'jenne', 'jenny', 'jeri', 'jerk', 'jerry', 'jersey', 'jesus', 'jet', 'jetton', 'jhl', 'ji', 'jia', 'jiayin', 'jide', 'jiu', 'jjc', 'jo', 'joanna', 'job', 'jock', 'jod', 'jogging', 'john', 'join', 'joined', 'joinedhope', 'joining', 'joke', 'joker', 'jokethet', 'jokin', 'joking', 'jolly', 'jolt', 'jon', 'jones', 'jontin', 'jordan', 'jordantxt', 'jorgeshock', 'jos', 'journey', 'joy', 'jp', 'jst', 'jstfrnd', 'jsut', 'juan', 'judgementali', 'juicy', 'jul', 'jules', 'juliana', 'julianaland', 'july', 'jump', 'jumper', 'june', 'jungle', 'junna', 'jurong', 'jus', 'justify', 'juswoke', 'juz', 'jx', 'k', 'kaaj', 'kadeem', 'kafter', 'kaiez', 'kaila', 'kaitlyn', 'kalaachutaarama', 'kalainar', 'kalisidare', 'kall', 'kallis', 'kalstiyathen', 'kama', 'kanagu', 'kane', 'kanji', 'kano', 'kanoanyway', 'kanoil', 'kappa', 'karaoke', 'karnan', 'karo', 'kate', 'katexxx', 'kath', 'kavalan', 'kay', 'kaypoh', 'kb', 'kbsubject', 'kbut', 'kdo', 'ke', 'keen', 'keep', 'keeping', 'kegger', 'keluviri', 'ken', 'keng', 'kent', 'kept', 'kerala', 'keralacircle', 'keris', 'kettoda', 'key', 'keyword', 'kfc', 'kgive', 'kgood', 'khelate', 'ki', 'kicchu', 'kick', 'kickboxing', 'kickoff', 'kid', 'kidding', 'kidz', 'kill', 'killed', 'killing', 'kim', 'kind', 'kinda', 'kindly', 'king', 'kingdom', 'kintu', 'kiosk', 'kip', 'kisi', 'kiss', 'kissing', 'kit', 'kittum', 'kitty', 'kkadvance', 'kkany', 'kkapo', 'kkare', 'kkfrom', 'kkgoodstudy', 'kkhow', 'kkim', 'kkthis', 'kkwhat', 'kkwhen', 'kkwhere', 'kkwhy', 'kkyesterday', 'kl', 'knackered', 'knee', 'knew', 'knickers', 'knock', 'knocking', 'know', 'knowhe', 'knowing', 'known', 'knowthis', 'knowwait', 'knw', 'ko', 'kochi', 'kodstini', 'kodthini', 'konw', 'korche', 'korean', 'korte', 'kotees', 'kothi', 'kr', 'ksry', 'kthen', 'ktv', 'ku', 'kuch', 'kudiyarasu', 'kusruthi', 'kwish', 'kyou', 'kz', 'l', 'la', 'lab', 'labor', 'lac', 'lacking', 'lacsthats', 'lacsthere', 'laden', 'ladiesu', 'lady', 'lag', 'lage', 'lager', 'laid', 'laidwant', 'lambda', 'lambu', 'lancaster', 'land', 'landing', 'landline', 'landlineonly', 'landmark', 'landsroww', 'lane', 'langport', 'language', 'lanka', 'lanre', 'lap', 'lapdancer', 'laptop', 'lar', 'lara', 'laready', 'large', 'largest', 'lark', 'lasagna', 'last', 'lasting', 'late', 'latebut', 'latei', 'lately', 'latelyxxx', 'later', 'lateso', 'latest', 'latr', 'laugh', 'laughed', 'laughing', 'laundry', 'laurie', 'lautech', 'lavender', 'law', 'laxinorficated', 'lay', 'laying', 'lazy', 'lb', 'lccltd', 'ldn', 'ldns', 'ldnw', 'le', 'lead', 'leading', 'leaf', 'leafcutter', 'leafdayno', 'league', 'leannewhat', 'learn', 'learned', 'least', 'leastwhich', 'leave', 'leaving', 'lect', 'lecture', 'left', 'leftover', 'leg', 'legal', 'legitimat', 'leh', 'lehhaha', 'lei', 'lemme', 'lemondayno', 'length', 'lennon', 'leo', 'leona', 'leonardo', 'leonas', 'lesser', 'lesson', 'let', 'letter', 'leu', 'level', 'liao', 'liaoso', 'liaotoo', 'lib', 'library', 'lick', 'lido', 'lie', 'life', 'lifebook', 'lifeis', 'lifethis', 'lifetime', 'lifeyou', 'lifpartnr', 'lift', 'lifted', 'light', 'lighter', 'lightly', 'lik', 'like', 'liked', 'likely', 'likeyour', 'likingbe', 'lily', 'lim', 'limit', 'limited', 'limiting', 'lindsay', 'line', 'linear', 'linerental', 'lineyou', 'lingerie', 'lingo', 'link', 'linux', 'lion', 'lionm', 'lionp', 'lip', 'lipo', 'liquor', 'list', 'listed', 'listen', 'listening', 'listn', 'lit', 'literally', 'litre', 'little', 'live', 'lived', 'liver', 'liverpool', 'living', 'lk', 'lkpobox', 'llspeak', 'lm', 'lmao', 'lmaonice', 'lnly', 'lo', 'load', 'loan', 'lobby', 'local', 'location', 'locaxx', 'lock', 'lodge', 'lodging', 'log', 'logged', 'logging', 'login', 'logo', 'logoff', 'logon', 'logopic', 'logosmusicnews', 'loko', 'lol', 'lololo', 'londn', 'london', 'loneliness', 'lonely', 'long', 'longer', 'loo', 'look', 'lookatme', 'looked', 'lookin', 'looking', 'lool', 'loose', 'loosu', 'lor', 'lord', 'lorgoin', 'lorwe', 'lose', 'loser', 'loses', 'losing', 'loss', 'lost', 'lot', 'lotr', 'lotsly', 'lotta', 'lotto', 'lotwill', 'lou', 'loud', 'lounge', 'lousy', 'lov', 'lovable', 'love', 'loveable', 'loved', 'lovejen', 'lovely', 'loveme', 'lover', 'loverakhesh', 'loverboy', 'lovin', 'loving', 'lovingly', 'lovly', 'low', 'lowcost', 'lower', 'loxahatchee', 'loyal', 'loyalty', 'lp', 'lpmsg', 'lst', 'lt', 'ltd', 'ltdecimalgt', 'ltdhelpdesk', 'ltemailgt', 'ltgt', 'lttimegt', 'lttrs', 'lturlgt', 'lubly', 'luck', 'luckily', 'lucky', 'lucozade', 'lucozadecoukwrc', 'lucy', 'lucyxx', 'luks', 'lunch', 'lunchtime', 'lunsford', 'lush', 'luton', 'luv', 'luvd', 'luvnight', 'luvs', 'lux', 'luxury', 'lv', 'lvblefrnd', 'lyf', 'lyfu', 'lyric', 'm', 'ma', 'maaaan', 'maangalyam', 'maat', 'mac', 'macha', 'machan', 'machiany', 'machine', 'macho', 'macleran', 'mad', 'madam', 'made', 'madodu', 'madoke', 'madstini', 'mag', 'maga', 'magazine', 'maggi', 'magic', 'magical', 'magicalsongsblogspotcom', 'mah', 'mahal', 'mahaveer', 'mail', 'mailbox', 'mailed', 'maili', 'main', 'maintain', 'maintaining', 'major', 'make', 'makiing', 'makin', 'making', 'malaria', 'malarky', 'male', 'mall', 'mallika', 'man', 'manage', 'manageable', 'managed', 'management', 'manchester', 'manda', 'mandan', 'mandara', 'mandy', 'maneesha', 'manege', 'maniac', 'manky', 'manual', 'many', 'map', 'mapquest', 'maraikara', 'marandratha', 'march', 'maretare', 'margaret', 'margin', 'mark', 'market', 'marking', 'marrgeremembr', 'marriage', 'marriageprogram', 'married', 'marrow', 'marry', 'marsms', 'maruti', 'marvel', 'mary', 'masked', 'massage', 'massagetiepos', 'massive', 'master', 'masteriastering', 'mat', 'match', 'matched', 'mate', 'math', 'mathe', 'mathematics', 'mathews', 'matra', 'matrix', 'matter', 'matthew', 'matured', 'maturity', 'max', 'maximize', 'maximum', 'may', 'mayb', 'maybe', 'mb', 'mca', 'mcat', 'mcflyall', 'mcr', 'meal', 'mean', 'meaning', 'meaningless', 'meant', 'meanwhile', 'meare', 'measure', 'meat', 'meatball', 'mecause', 'mecometlpdiningasp', 'med', 'medical', 'medicine', 'medont', 'mee', 'meet', 'meetgreet', 'meetin', 'meeting', 'meetins', 'meetitz', 'mega', 'meh', 'mei', 'meive', 'mel', 'melike', 'melle', 'melt', 'member', 'membership', 'membershiptake', 'memorable', 'memory', 'men', 'mental', 'mention', 'mentionedtomorrow', 'mentionned', 'mentor', 'menu', 'meok', 'meow', 'meowd', 'merememberin', 'meremove', 'merry', 'mesages', 'meshe', 'meso', 'mess', 'message', 'messaged', 'messageit', 'messageits', 'messageno', 'messagepandy', 'messagesim', 'messagesome', 'messagestext', 'messagethanks', 'messaging', 'messed', 'messenger', 'messy', 'met', 'method', 'meummifyingbye', 'mf', 'mfl', 'mg', 'mi', 'mia', 'mid', 'middle', 'midnight', 'might', 'mila', 'mile', 'mileage', 'milk', 'milkdayno', 'miller', 'miltazindgi', 'min', 'mina', 'minapn', 'mind', 'minded', 'mindsetbelieve', 'mine', 'mineall', 'minecraft', 'mini', 'minimum', 'minmobsmore', 'minmobsmorelkpobox', 'minmoremobsemspobox', 'minnaminunginte', 'minor', 'minscall', 'minstand', 'minstexts', 'mint', 'minus', 'minute', 'minuts', 'miracle', 'mirror', 'misbehaved', 'miserable', 'misfit', 'mising', 'miss', 'misscall', 'missed', 'missin', 'missing', 'mission', 'missionary', 'missunderstding', 'missy', 'mist', 'mistake', 'mistakeu', 'misundrstud', 'mite', 'mitsake', 'mittelschmertz', 'miwa', 'mix', 'mj', 'mjzgroup', 'mk', 'ml', 'mm', 'mmm', 'mmmm', 'mmmmm', 'mmmmmm', 'mmmmmmm', 'mmsto', 'mn', 'mnth', 'mnths', 'mo', 'moan', 'mob', 'mobcudb', 'mobile', 'mobilescom', 'mobilesdirect', 'mobilesvary', 'mobileupd', 'mobno', 'mobsicom', 'mobstorequiz', 'moby', 'mode', 'model', 'modelsony', 'modl', 'module', 'mofo', 'moji', 'mojibiola', 'mokka', 'molestedsomeone', 'mom', 'moment', 'mon', 'monday', 'mondaynxt', 'moneeppolum', 'money', 'moneyas', 'moneyi', 'monkeespeople', 'monkey', 'monkeyaround', 'mono', 'monoc', 'monster', 'month', 'monthly', 'monthlysubscription', 'monthnot', 'mood', 'moon', 'moral', 'moraldont', 'moralone', 'morefrmmob', 'morn', 'mornin', 'morning', 'morningtake', 'moro', 'morow', 'morphine', 'morro', 'morrow', 'morrowxxxx', 'moseley', 'mostly', 'mother', 'motherfucker', 'motherinlaw', 'motivate', 'motivating', 'motor', 'motorola', 'mountain', 'mouse', 'mouth', 'move', 'moved', 'movie', 'moviewat', 'moving', 'mp', 'mph', 'mquiz', 'mr', 'mre', 'mrng', 'mro', 'mrt', 'mrur', 'mrw', 'msg', 'msging', 'msgrcvd', 'msgsd', 'msgsometext', 'msgsubscription', 'msgticketkioskvalid', 'msn', 'mssuman', 'mt', 'mtalk', 'mth', 'mths', 'mu', 'much', 'muchand', 'muchi', 'muchimpede', 'muchxxlove', 'mudyadhu', 'muhommad', 'multimedia', 'multiply', 'mum', 'mumhas', 'mummy', 'mumtaz', 'mumtazs', 'mundhe', 'munsters', 'murali', 'murder', 'murdered', 'murderer', 'mushy', 'music', 'must', 'musthu', 'mustprovide', 'mutai', 'muz', 'mw', 'mymoby', 'myparents', 'mys', 'myspace', 'mystery', 'mytonecomenjoy', 'n', 'na', 'naal', 'nacho', 'nag', 'nagar', 'nah', 'nahi', 'nail', 'naked', 'nalla', 'nalli', 'name', 'named', 'namemy', 'nammanna', 'nan', 'nange', 'nanny', 'nap', 'narcotic', 'nasdaq', 'naseeb', 'nasty', 'nat', 'natalie', 'natalja', 'national', 'nationwide', 'nattil', 'natuition', 'natural', 'nature', 'naughty', 'nauseous', 'nav', 'navigate', 'nb', 'nbme', 'nd', 'ne', 'near', 'nearby', 'nearer', 'nearly', 'necesity', 'necessary', 'necessity', 'neck', 'necklace', 'ned', 'need', 'needa', 'needed', 'neededsalary', 'needing', 'needle', 'needy', 'neekunna', 'neft', 'negative', 'neglect', 'neglet', 'neighbor', 'neighbour', 'neither', 'nelson', 'neo', 'neshanthtel', 'net', 'netcollex', 'netflix', 'nething', 'netno', 'network', 'networking', 'neva', 'never', 'nevering', 'neville', 'new', 'neway', 'newest', 'newport', 'newquaysend', 'news', 'newsby', 'newscaster', 'newshype', 'newspaper', 'next', 'ngage', 'nh', 'nhite', 'ni', 'nic', 'nice', 'nicenicehow', 'nichols', 'nickey', 'nig', 'nigeria', 'nigh', 'night', 'nighters', 'nightnight', 'nightnobody', 'nightswe', 'nigpun', 'nigro', 'nike', 'nikiyu', 'nimbomsons', 'nimya', 'nimyapls', 'ninish', 'nino', 'nipost', 'nit', 'nite', 'nitro', 'nitros', 'nitw', 'nitz', 'njan', 'nmde', 'nnfwfly', 'no', 'nobbing', 'noble', 'nobody', 'nobut', 'noe', 'nofew', 'nohe', 'noi', 'noice', 'noise', 'noisy', 'noits', 'nok', 'nokia', 'nokias', 'noline', 'nolistened', 'noncomittal', 'none', 'nonenowhere', 'nonetheless', 'noon', 'nooooooo', 'noooooooo', 'nope', 'nora', 'norm', 'normal', 'normally', 'north', 'northampton', 'nose', 'note', 'notebook', 'nothin', 'nothing', 'nothis', 'notice', 'notification', 'notixiquating', 'nottel', 'nottingham', 'notxtcouk', 'noun', 'november', 'nowadays', 'nowadayslot', 'nowi', 'nownyt', 'nowonion', 'nowreply', 'nowsend', 'nowsky', 'nowstill', 'nowtcs', 'nowuse', 'nr', 'nri', 'nt', 'nte', 'ntt', 'ntwk', 'nu', 'nuclear', 'nudist', 'nuerologist', 'num', 'number', 'numberpls', 'numberso', 'nurungu', 'nuther', 'nutter', 'nver', 'nvm', 'nvq', 'nw', 'nxt', 'nyc', 'nydc', 'nyt', 'nytec', 'nyusa', 'nz', 'o', 'obedient', 'obey', 'objection', 'oblisingately', 'oblivious', 'obviously', 'occasion', 'occupied', 'occupy', 'occurs', 'oclock', 'october', 'odalebeku', 'odi', 'ofcourse', 'offc', 'offense', 'offer', 'offered', 'offering', 'offerthe', 'office', 'officer', 'officestill', 'officethenampet', 'officeunderstand', 'official', 'officially', 'offline', 'ofice', 'oficegot', 'ofsi', 'often', 'ogunrinde', 'oh', 'ohas', 'ohi', 'oi', 'oic', 'oil', 'oja', 'ok', 'okay', 'okday', 'okden', 'okey', 'okie', 'okies', 'okmail', 'okok', 'okors', 'oktake', 'okthenwhats', 'okvarunnathu', 'ola', 'olage', 'olave', 'olayiwolas', 'old', 'ollubut', 'olol', 'omg', 'omw', 'onam', 'oncall', 'ondu', 'one', 'onedge', 'oneta', 'oni', 'onionrs', 'onit', 'online', 'onlybettr', 'onlydon', 'onlyfound', 'onto', 'onum', 'onwards', 'ooh', 'oooooh', 'oops', 'open', 'opened', 'opener', 'openin', 'opening', 'operate', 'operator', 'opinion', 'opponenter', 'opportunity', 'opportunityall', 'opportunitypls', 'opps', 'opt', 'opted', 'optical', 'option', 'optout', 'optouthf', 'optouthv', 'optoutj', 'optoutlf', 'optoutn', 'optoutyhl', 'or', 'oral', 'orange', 'orc', 'orchard', 'order', 'ordered', 'oredi', 'oreo', 'organise', 'orig', 'original', 'orno', 'oru', 'oso', 'otbox', 'others', 'otherwise', 'othrs', 'otside', 'ou', 'ouch', 'oursso', 'out', 'outage', 'outbid', 'outdoors', 'outfit', 'outfor', 'outgoing', 'outhave', 'outif', 'outl', 'outrageous', 'outreach', 'outside', 'outsider', 'outstanding', 'outta', 'ovarian', 'overdose', 'overemphasiseor', 'overheating', 'overtime', 'ovr', 'ovulation', 'owe', 'owed', 'owl', 'owns', 'ownyouve', 'oxygen', 'oyster', 'oz', 'p', 'pa', 'pace', 'pack', 'package', 'packalso', 'padhegm', 'page', 'pai', 'paid', 'pain', 'painful', 'painhope', 'painit', 'painting', 'pale', 'palm', 'panasonic', 'pandy', 'panic', 'panicks', 'pansy', 'pant', 'panther', 'panty', 'pap', 'papa', 'paper', 'paperwork', 'paracetamol', 'parachute', 'parade', 'paragon', 'paragraph', 'paranoid', 'parchi', 'parco', 'parent', 'parentnot', 'paris', 'parisfree', 'parish', 'park', 'parked', 'parkin', 'parking', 'part', 'participate', 'particular', 'particularly', 'partner', 'partnership', 'party', 'pas', 'pass', 'passable', 'passed', 'passion', 'passionate', 'passport', 'password', 'passwordsatmsms', 'past', 'patent', 'pathaya', 'patient', 'patrick', 'pattern', 'patty', 'paul', 'pause', 'pavanaputra', 'pay', 'payasam', 'payback', 'payed', 'payee', 'paying', 'payment', 'payoh', 'pc', 'pdatenow', 'pe', 'peace', 'peaceful', 'peach', 'peak', 'pear', 'peep', 'pehle', 'pei', 'pen', 'pendent', 'pending', 'pendingi', 'penis', 'penny', 'people', 'per', 'percent', 'percentrealcom', 'perf', 'perfect', 'perform', 'performance', 'performed', 'perhaps', 'period', 'permanent', 'permission', 'perpetual', 'persevered', 'persian', 'person', 'personal', 'personality', 'personally', 'personmeet', 'perspective', 'perumbavoor', 'perweeksub', 'perwksub', 'pesky', 'pete', 'peteis', 'petey', 'peteynoi', 'petrol', 'petrolrs', 'pg', 'ph', 'pharmacy', 'phd', 'phews', 'phil', 'philosophy', 'phne', 'phoenix', 'phone', 'phonebook', 'phoned', 'phony', 'photo', 'photoshop', 'php', 'phrase', 'physic', 'pic', 'pick', 'picked', 'picking', 'pickle', 'picsfree', 'picture', 'pictxt', 'pie', 'piece', 'pierre', 'pig', 'piggy', 'pilate', 'pillow', 'pimple', 'pimpleseven', 'pin', 'pink', 'pint', 'pisces', 'piss', 'pissed', 'pity', 'pix', 'pixel', 'pizza', 'pl', 'place', 'placed', 'placement', 'placeno', 'plaid', 'plan', 'plane', 'planet', 'planeti', 'planettalkinstantcom', 'planned', 'planning', 'plate', 'platt', 'play', 'played', 'player', 'playerwhy', 'playi', 'playin', 'playing', 'plaza', 'pleasant', 'please', 'pleased', 'pleassssssseeeeee', 'pleasure', 'pleasured', 'plenty', 'pls', 'plsi', 'plum', 'plumber', 'plumbingremixed', 'plus', 'plyr', 'plz', 'pm', 'pmeg', 'pmin', 'pmmorefrommobile', 'pmsg', 'pmsgrcvd', 'pmsgrcvdhgsuite', 'pmt', 'pmtmsg', 'pmtmsgrcvd', 'po', 'pobox', 'pocay', 'pocked', 'pocketbabecouk', 'pocy', 'pod', 'poet', 'point', 'poker', 'pole', 'police', 'politician', 'polo', 'poly', 'polyc', 'polyh', 'polyph', 'polyphonic', 'polys', 'polytruepixringtonesgames', 'pongal', 'pongaldo', 'ponnungale', 'pookie', 'pool', 'poor', 'poortiyagi', 'pop', 'popcorn', 'popcornjust', 'popped', 'popping', 'porn', 'porridge', 'port', 'portal', 'pose', 'posh', 'position', 'positive', 'possession', 'possibility', 'possible', 'possiblehope', 'possibly', 'post', 'postal', 'postcard', 'postcode', 'posted', 'posterode', 'posting', 'postponed', 'potential', 'potter', 'pouch', 'pound', 'pours', 'pout', 'power', 'powerful', 'poyyarikaturkolathupalayamunjalur', 'ppermesssubscription', 'ppl', 'pple', 'ppm', 'ppmpobox', 'ppmsg', 'ppmx', 'pptxt', 'prabha', 'prabhaim', 'prabu', 'pract', 'practical', 'practice', 'practicing', 'practising', 'praise', 'prakasam', 'prakasamanu', 'prakesh', 'praps', 'prasanth', 'prashanthettans', 'pray', 'prayer', 'praying', 'prayingwill', 'prayrs', 'prcvd', 'prebook', 'predict', 'predicte', 'predicting', 'prediction', 'prefer', 'preferably', 'prem', 'premier', 'premium', 'prepaid', 'prepare', 'prepared', 'prepayment', 'preponed', 'prescribed', 'prescripiton', 'prescription', 'presence', 'present', 'president', 'presley', 'presnts', 'press', 'pressies', 'prestige', 'pretend', 'pretsorginta', 'pretsovru', 'pretty', 'prevent', 'preview', 'previous', 'previously', 'prey', 'price', 'pride', 'priest', 'prin', 'prince', 'princegn', 'princess', 'print', 'printed', 'printer', 'printing', 'prior', 'priority', 'priscillas', 'privacy', 'private', 'prix', 'prize', 'prizeawaiting', 'prizeswith', 'prizeto', 'pro', 'prob', 'probably', 'problem', 'problematic', 'problemfree', 'problms', 'problum', 'probs', 'probthat', 'process', 'processed', 'processexcellent', 'processits', 'prod', 'product', 'prof', 'professor', 'profile', 'profit', 'program', 'progress', 'project', 'prolly', 'prometazine', 'prominent', 'promise', 'promised', 'promo', 'promoting', 'promotion', 'prompt', 'promptly', 'prone', 'proof', 'proove', 'prop', 'properly', 'property', 'propose', 'propsd', 'prospect', 'protect', 'proverb', 'provided', 'provider', 'province', 'prsn', 'pshewmissing', 'psms', 'pt', 'ptbo', 'pthis', 'ptone', 'ptxt', 'pub', 'pubcafe', 'public', 'publish', 'pull', 'pump', 'punch', 'punish', 'puppy', 'pura', 'purchase', 'pure', 'purity', 'purpose', 'purse', 'push', 'pushbutton', 'pussy', 'put', 'puttin', 'putting', 'puzzeles', 'puzzle', 'pw', 'pwk', 'px', 'q', 'qatar', 'qbank', 'qet', 'qf', 'qi', 'qlynnbv', 'qp', 'qu', 'quality', 'quarter', 'que', 'queen', 'query', 'ques', 'question', 'questioned', 'questionstd', 'quick', 'quickly', 'quiet', 'quit', 'quite', 'quiteamuzing', 'quitting', 'quiz', 'quizwin', 'quote', 'quoting', 'qxj', 'r', 'racing', 'radiator', 'radio', 'raed', 'rael', 'raglan', 'rahul', 'raiden', 'railway', 'rain', 'raining', 'raise', 'raised', 'raj', 'raja', 'rajini', 'rajipls', 'rakhesh', 'raksha', 'rally', 'ralphs', 'ramaduth', 'ramen', 'ran', 'random', 'randomlly', 'randomly', 'randy', 'rang', 'range', 'ranjith', 'rat', 'rate', 'ratetcs', 'rather', 'ratio', 'rawring', 'ray', 'rayan', 'rayman', 'rcbbattle', 'rcd', 'rct', 'rcv', 'rcvd', 'rd', 'rdy', 'reach', 'reache', 'reached', 'reaching', 'reaction', 'read', 'reader', 'readiness', 'reading', 'ready', 'readyall', 'real', 'realise', 'realised', 'realising', 'reality', 'realize', 'realized', 'realizes', 'really', 'realy', 'reapply', 'rearrange', 'reason', 'reasonable', 'reassurance', 'reassuring', 'reboot', 'rebooting', 'rebtel', 'rec', 'recd', 'recdthirtyeight', 'receipt', 'receive', 'receivea', 'received', 'receiving', 'recent', 'recently', 'reception', 'recession', 'recharged', 'rechargerakhesh', 'recieve', 'reckon', 'recognise', 'record', 'recorded', 'recorder', 'recount', 'recovery', 'recpt', 'recreation', 'red', 'redeemable', 'redred', 'reduce', 'ref', 'reference', 'referin', 'reffering', 'refilled', 'reflection', 'reflex', 'reformat', 'refreshed', 'refund', 'refused', 'reg', 'regard', 'regarding', 'register', 'registered', 'registration', 'regret', 'regretted', 'regular', 'rejected', 'related', 'relation', 'relative', 'relax', 'relaxing', 'released', 'reliant', 'religiously', 'relocate', 'reltnship', 'rem', 'remain', 'remains', 'remb', 'remember', 'remembered', 'rememberi', 'remembr', 'remembrs', 'remet', 'remind', 'reminded', 'reminder', 'reminding', 'reminds', 'removal', 'remove', 'removed', 'rencontre', 'renewal', 'renewed', 'renewing', 'rent', 'rental', 'renting', 'rentl', 'repair', 'repent', 'replace', 'replacement', 'replacing', 'replied', 'reply', 'replybe', 'replying', 'report', 'reppurcussions', 'representative', 'republic', 'request', 'require', 'required', 'requires', 'reschedule', 'research', 'resend', 'resent', 'reservation', 'reserve', 'reserved', 'reset', 'residency', 'resizing', 'reslove', 'resolution', 'resolved', 'resort', 'respect', 'responcewhat', 'respond', 'responding', 'response', 'responsibility', 'responsible', 'rest', 'restaurant', 'restock', 'restocked', 'restrict', 'restriction', 'restuwud', 'restwish', 'resub', 'resubbing', 'resubmit', 'result', 'resuming', 'retard', 'retrieve', 'return', 'returned', 'returning', 'reunion', 'reveal', 'revealed', 'reverse', 'review', 'revision', 'reward', 'rewarding', 'rg', 'rgds', 'rgent', 'rhythm', 'rice', 'rich', 'ride', 'right', 'rightio', 'rightly', 'rimac', 'ring', 'ringsreturn', 'ringtone', 'ringtonefrom', 'ringtoneget', 'ringtoneking', 'ringtones', 'rinu', 'rip', 'ripped', 'risk', 'rite', 'river', 'ro', 'road', 'roadsrvx', 'roast', 'robinson', 'robs', 'rock', 'rocking', 'rodds', 'rodger', 'rofl', 'roger', 'role', 'rolled', 'roller', 'romantic', 'romcapspam', 'ron', 'room', 'roomate', 'roommate', 'rose', 'rough', 'round', 'rounderso', 'route', 'row', 'rowdy', 'roww', 'royal', 'rply', 'rr', 'rreveal', 'rsi', 'rstm', 'rtking', 'rtm', 'rto', 'ru', 'rub', 'rude', 'rudi', 'rugby', 'ruin', 'ruining', 'rule', 'rum', 'rumbling', 'rummer', 'rumour', 'run', 'running', 'rupaul', 'rush', 'rushing', 'rv', 'rw', 'ryan', 'ryder', 's', 'sac', 'sachin', 'sachinjust', 'sack', 'sacrifice', 'sad', 'sae', 'saeed', 'safe', 'safely', 'sagamu', 'said', 'saidif', 'sake', 'salad', 'salam', 'salary', 'sale', 'salesman', 'salespee', 'salmon', 'salon', 'salt', 'sam', 'samachara', 'samantha', 'sambarlife', 'samus', 'sane', 'sang', 'sankatmochan', 'sankranti', 'santa', 'santha', 'sapna', 'sar', 'sara', 'sarasota', 'sarcastic', 'saristar', 'sariyag', 'sary', 'sashimi', 'sat', 'sathy', 'sathya', 'satisfied', 'satisfy', 'satlove', 'satsgettin', 'satsound', 'saturday', 'saucy', 'savamob', 'save', 'saved', 'saving', 'saw', 'say', 'sayask', 'saying', 'sbut', 'sc', 'scallies', 'scammer', 'scared', 'scary', 'scenery', 'sch', 'schedule', 'school', 'science', 'scold', 'scool', 'scorable', 'score', 'scoring', 'scotch', 'scotland', 'scotsman', 'scouse', 'scraped', 'scrappy', 'scratch', 'scream', 'screamed', 'screaming', 'screen', 'screwd', 'scrounge', 'scrumptious', 'sculpture', 'sd', 'sdryb', 'se', 'sea', 'search', 'searching', 'season', 'seat', 'sec', 'second', 'secondary', 'secret', 'secretary', 'section', 'secure', 'secured', 'sed', 'see', 'seed', 'seeing', 'seeker', 'seeking', 'seem', 'seemed', 'seems', 'seen', 'seeno', 'sef', 'seh', 'sehwag', 'seing', 'select', 'selected', 'selection', 'self', 'selfindependence', 'selfish', 'selflessness', 'sell', 'selling', 'sem', 'semester', 'semi', 'semiobscure', 'sen', 'send', 'sender', 'sendername', 'sending', 'sends', 'senor', 'senrddnot', 'sense', 'sensesrespect', 'sensible', 'sensitive', 'sent', 'sentdate', 'sentence', 'senthil', 'senthilhsbc', 'sentiment', 'seperated', 'sept', 'september', 'serena', 'series', 'serious', 'seriously', 'served', 'server', 'service', 'serving', 'servs', 'set', 'setting', 'settle', 'settled', 'settling', 'seven', 'seventeen', 'several', 'sex', 'sexual', 'sexy', 'sexychat', 'sez', 'sf', 'sfine', 'sfirst', 'sfrom', 'sh', 'sha', 'shade', 'shadow', 'shagged', 'shah', 'shahjahan', 'shahjahans', 'shakara', 'shake', 'shakespeare', 'shaking', 'shall', 'shame', 'shampain', 'shanghai', 'shant', 'shaping', 'share', 'shared', 'sharing', 'shattered', 'shaved', 'shd', 'sheet', 'sheffield', 'shelf', 'shell', 'sherawat', 'shes', 'shesil', 'shhhhh', 'shifad', 'shijas', 'shijutta', 'shinco', 'shindig', 'shining', 'shiny', 'ship', 'shipped', 'shipping', 'shirt', 'shit', 'shite', 'shitload', 'shitstorm', 'shivratri', 'shjas', 'shld', 'shldxxxx', 'shock', 'shocking', 'shoe', 'shola', 'shoot', 'shop', 'shopcom', 'shoppin', 'shopping', 'shoranur', 'shore', 'short', 'shortage', 'shorter', 'shortly', 'shot', 'shoul', 'shoulder', 'shouldnt', 'shouted', 'shouting', 'shoving', 'show', 'showed', 'shower', 'showered', 'showing', 'showr', 'showroomscity', 'shracomorsglsuplt', 'shrek', 'shrink', 'shrub', 'shud', 'shuhui', 'shun', 'shut', 'shy', 'si', 'sian', 'sib', 'sic', 'sick', 'sicomo', 'side', 'sigh', 'sight', 'sign', 'signal', 'significance', 'significant', 'signin', 'signing', 'siguviri', 'silence', 'silent', 'silently', 'silver', 'sim', 'simonwatson', 'simple', 'simpler', 'simply', 'simpson', 'simulate', 'since', 'sinco', 'sindu', 'sing', 'singing', 'single', 'sink', 'sip', 'sipix', 'sir', 'siri', 'sirjii', 'sister', 'sit', 'site', 'sitll', 'sitter', 'sittin', 'sitting', 'situation', 'siva', 'sivatats', 'six', 'sized', 'sk', 'skateboarding', 'skilgme', 'skilgmetscs', 'skillgame', 'skin', 'skinny', 'skint', 'skip', 'skirt', 'sky', 'skype', 'skyped', 'skyving', 'slaaaaave', 'slap', 'slave', 'sleep', 'sleepin', 'sleeping', 'sleepingand', 'sleepingwith', 'sleepsweet', 'sleepwellamptake', 'sleepy', 'slept', 'slice', 'slide', 'sliding', 'slightly', 'slip', 'slipper', 'slippery', 'slo', 'slob', 'slovely', 'slow', 'slower', 'slowing', 'slowly', 'slurp', 'sm', 'smack', 'small', 'smaller', 'smart', 'smartcall', 'smarter', 'smartthough', 'smash', 'smashed', 'smear', 'smell', 'smeone', 'smidgin', 'smile', 'smiled', 'smiley', 'smiling', 'smith', 'smithswitch', 'smoke', 'smoked', 'smokin', 'smoking', 'smoothly', 'smscom', 'smsd', 'smsing', 'smsservices', 'smsshsexnetun', 'smth', 'sn', 'snake', 'snappy', 'snd', 'sneham', 'snickering', 'sno', 'snogs', 'snoringthey', 'snow', 'snowball', 'snowboarding', 'snowman', 'snuggle', 'so', 'soany', 'soc', 'sochte', 'social', 'sofa', 'soft', 'software', 'soil', 'soiree', 'sol', 'soladha', 'sold', 'solihull', 'solve', 'solved', 'somebody', 'someday', 'someone', 'someonethat', 'someonone', 'someplace', 'somerset', 'somethin', 'something', 'somethings', 'sometime', 'sometimerakheshvisitor', 'sometimes', 'sometme', 'somewhat', 'somewhere', 'somewheresomeone', 'somewhr', 'somtimes', 'sonathaya', 'sonetimes', 'song', 'sonot', 'sony', 'sonyericsson', 'soo', 'soon', 'soonc', 'sooner', 'soonlots', 'soonxxx', 'sooo', 'soooo', 'sooooo', 'sophas', 'sore', 'sorrow', 'sorrowsi', 'sorry', 'sorryi', 'sorryin', 'sort', 'sorted', 'sorting', 'sory', 'sorydarealyfrm', 'soso', 'soul', 'sound', 'soundtrack', 'soup', 'source', 'south', 'southern', 'souveniers', 'soz', 'sp', 'space', 'spageddies', 'spain', 'spam', 'spanish', 'spare', 'spark', 'sparkling', 'spatula', 'speak', 'speaking', 'special', 'specialcall', 'speciale', 'specialisation', 'specialise', 'specially', 'specific', 'speechless', 'speed', 'speedchat', 'speeding', 'spell', 'spelled', 'spelling', 'spend', 'spending', 'spent', 'spice', 'spider', 'spiderman', 'spile', 'spin', 'spinout', 'spiritual', 'spjanuary', 'spk', 'spl', 'splash', 'splashmobile', 'splat', 'splendid', 'split', 'splleing', 'spoil', 'spoiled', 'spoilt', 'spoke', 'spoken', 'sponsor', 'spontaneously', 'spook', 'spoon', 'sport', 'sportsx', 'spose', 'spot', 'spotty', 'spouse', 'sppok', 'spreadsheet', 'spree', 'spring', 'sprint', 'sptv', 'sptyrone', 'sq', 'squeeeeeze', 'sri', 'srt', 'sry', 'ssi', 'ssindia', 'ssnervous', 'st', 'stable', 'stadium', 'staff', 'staffsciencenusedusgphyhcmkteachingpc', 'stage', 'stair', 'stalk', 'stalking', 'stamp', 'stamped', 'stand', 'standard', 'standing', 'stapati', 'star', 'starer', 'staring', 'starring', 'starshine', 'start', 'started', 'startedindia', 'starting', 'starve', 'starwars', 'stash', 'statement', 'station', 'status', 'stay', 'stayed', 'stayin', 'staying', 'stchoicecouk', 'std', 'stdtxtrate', 'steak', 'steal', 'stealing', 'steam', 'steamboat', 'steed', 'step', 'stereo', 'sterling', 'sterm', 'steve', 'stevelike', 'stewartsize', 'steyn', 'sthis', 'stick', 'sticky', 'stifled', 'stil', 'still', 'stink', 'stitch', 'stock', 'stocked', 'stockport', 'stolen', 'stomach', 'stomp', 'stone', 'stoner', 'stool', 'stop', 'stopbcm', 'stopcost', 'stopcs', 'stopped', 'stopsms', 'stoptxt', 'stoptxtstop', 'store', 'storming', 'story', 'str', 'straight', 'strain', 'strange', 'stranger', 'strangersaw', 'stream', 'street', 'streetshall', 'stress', 'stressed', 'stressful', 'stressfull', 'stretch', 'strewn', 'strict', 'strike', 'string', 'strip', 'stripe', 'strong', 'strongbuy', 'strongly', 'strt', 'strtd', 'struggling', 'sts', 'stu', 'stubborn', 'stuck', 'student', 'studio', 'study', 'studying', 'stuff', 'stuffed', 'stuffing', 'stuffwhy', 'stunning', 'stupid', 'stupidits', 'style', 'styling', 'stylish', 'sub', 'subject', 'subletting', 'submitted', 'submitting', 'subpoly', 'subscribe', 'subscribed', 'subscriber', 'subscription', 'subscriptn', 'subscrition', 'subsequent', 'subtoitles', 'success', 'successful', 'successfully', 'suck', 'sucker', 'sudden', 'suddenly', 'sudn', 'sue', 'suffer', 'suffering', 'suffers', 'sufficient', 'sugababes', 'suganya', 'sugar', 'sugardad', 'suggest', 'suggestion', 'suit', 'suite', 'sullivan', 'sum', 'sumfing', 'summer', 'summon', 'sumthin', 'sumthinxx', 'sun', 'sunday', 'sundayish', 'sunlight', 'sunny', 'sunoco', 'sunroof', 'sunshine', 'suntec', 'sup', 'super', 'superb', 'superior', 'supervisor', 'suply', 'supose', 'supplier', 'supply', 'support', 'supportproviding', 'supportvery', 'suppose', 'supposed', 'supreme', 'suprman', 'sura', 'sure', 'surely', 'surf', 'surfing', 'surgical', 'surname', 'surprise', 'surprised', 'surrender', 'surrounded', 'sutra', 'sux', 'suzy', 'svc', 'sw', 'swalpa', 'swann', 'swap', 'swashbuckling', 'swat', 'swatch', 'swayze', 'swear', 'sweatter', 'sweet', 'sweetest', 'sweetheart', 'sweetie', 'swimming', 'swimsuit', 'swing', 'swiss', 'switch', 'swollen', 'swoop', 'swt', 'swtheart', 'syd', 'syllabus', 'symbol', 'symptom', 'syria', 'syrup', 'system', 't', 'ta', 'table', 'tablet', 'tackle', 'taco', 'tactful', 'tadaaaaa', 'tag', 'tagged', 'tahan', 'tai', 'tait', 'taj', 'take', 'takecare', 'taken', 'takenonly', 'takin', 'taking', 'talent', 'talk', 'talkbut', 'talked', 'talkin', 'talking', 'tall', 'tallahassee', 'tallent', 'tamilnaduthen', 'tampa', 'tank', 'tantrum', 'tap', 'tape', 'tariff', 'tarpon', 'taste', 'tasts', 'tat', 'tata', 'tattoo', 'taught', 'taunton', 'tax', 'taxless', 'taxt', 'taylor', 'tayseertissco', 'tb', 'tbspersolvo', 'tc', 'tcbiz', 'tcllc', 'tcrw', 'tcsbcm', 'tcsc', 'tcsstop', 'tctxt', 'tddnewsletteremc', 'te', 'tea', 'teach', 'teacher', 'teaching', 'teacoffee', 'team', 'tear', 'tease', 'teasing', 'tech', 'technical', 'technology', 'tee', 'teeth', 'teethif', 'teju', 'tel', 'telephone', 'telephonic', 'teletext', 'tell', 'telling', 'tellmiss', 'telly', 'telphone', 'telugu', 'teluguthts', 'temales', 'temp', 'temper', 'temple', 'ten', 'tenant', 'tendency', 'tenerife', 'tensed', 'tension', 'teresa', 'term', 'terminatedwe', 'termsapply', 'terrible', 'terrific', 'terror', 'terrorist', 'tescos', 'tessypls', 'test', 'testing', 'tex', 'texas', 'texd', 'text', 'textbook', 'textbuddy', 'textcomp', 'texted', 'texting', 'textoperator', 'textpod', 'textsweekend', 'tf', 'tg', 'th', 'thangam', 'thangamits', 'thank', 'thanks', 'thanksgiving', 'thanku', 'thankyou', 'thanx', 'thasa', 'thatdont', 'thati', 'thatll', 'thats', 'theacusations', 'theatre', 'thedailydraw', 'thekingshead', 'theme', 'themed', 'themob', 'themobhit', 'themobyo', 'thenwill', 'theoretically', 'theory', 'theplace', 'there', 'theredo', 'theregoodnight', 'therell', 'therere', 'therexx', 'theseyours', 'thesis', 'thesmszonecom', 'thewend', 'theyll', 'theyre', 'thfebtcs', 'thgt', 'thia', 'thing', 'thinghow', 'thingi', 'think', 'thinked', 'thinkin', 'thinking', 'thinkthis', 'thinl', 'thirunelvali', 'thisdon', 'thk', 'thkin', 'thm', 'thnk', 'thnq', 'tho', 'thoso', 'thot', 'thou', 'though', 'thought', 'thoughtsi', 'thousand', 'thout', 'thread', 'threat', 'three', 'threw', 'thriller', 'throat', 'throw', 'throwin', 'throwing', 'thrown', 'thru', 'thrurespect', 'tht', 'thts', 'thurs', 'thursday', 'thus', 'thx', 'thy', 'ti', 'tick', 'ticket', 'tiempo', 'tight', 'tightly', 'tigress', 'tihs', 'til', 'till', 'tim', 'time', 'timedhoni', 'timehope', 'timeyou', 'timeyour', 'timi', 'timin', 'timing', 'tip', 'tired', 'tiring', 'tirunelvai', 'tirunelvali', 'tirupur', 'tisscotayseer', 'title', 'titleso', 'tiwary', 'tiz', 'tkts', 'tlk', 'tm', 'tming', 'tmobile', 'tmorrowpls', 'tmr', 'tmw', 'tnc', 'tncs', 'toa', 'toaday', 'tobacco', 'tobed', 'toclaim', 'today', 'todaybut', 'todaydo', 'todayfrom', 'todaygood', 'todayhe', 'todaysundaysunday', 'tog', 'together', 'toilet', 'tok', 'token', 'toking', 'tol', 'told', 'toldshe', 'tolerance', 'toll', 'tom', 'tomarrow', 'tomeandsaidthis', 'tomo', 'tomocant', 'tomorro', 'tomorrow', 'tomorrowtoday', 'tomorw', 'tone', 'tonesreply', 'tonexs', 'tonight', 'tonite', 'tonitebusy', 'tonitethings', 'took', 'tookplace', 'tool', 'tooo', 'toopray', 'toot', 'tootsie', 'top', 'topic', 'toplay', 'toppoly', 'torch', 'torrent', 'tortilla', 'torture', 'tosend', 'toss', 'tot', 'total', 'totally', 'touch', 'touched', 'tough', 'toughest', 'tour', 'towards', 'town', 'towndontmatter', 'toyota', 'tr', 'track', 'trackmarque', 'trade', 'tradition', 'traffic', 'train', 'trained', 'training', 'trainners', 'transaction', 'transcribing', 'transfer', 'transferacc', 'transfered', 'transferred', 'transfr', 'transfred', 'transport', 'trash', 'trauma', 'trav', 'travel', 'traveling', 'travelled', 'travelling', 'treadmill', 'treasure', 'treat', 'treated', 'treble', 'tree', 'trend', 'trial', 'tried', 'trip', 'triple', 'trishul', 'tron', 'trouble', 'troubleshooting', 'trouser', 'truble', 'truck', 'true', 'truekdo', 'truffle', 'truly', 'truro', 'trust', 'trusting', 'truth', 'truthful', 'try', 'tryin', 'trying', 'tscs', 'tshirt', 'tsunami', 'tt', 'ttyl', 'tues', 'tuesday', 'tuition', 'tul', 'tulip', 'tulsi', 'tune', 'turkey', 'turn', 'turned', 'turning', 'tuth', 'tv', 'tvhe', 'tvlol', 'twat', 'twelve', 'twenty', 'twice', 'twiggs', 'twilight', 'twin', 'twinks', 'twittering', 'two', 'txt', 'txtauction', 'txtauctiontxt', 'txtin', 'txting', 'txtjourney', 'txtno', 'txts', 'txtx', 'tyler', 'type', 'typelyk', 'typical', 'u', 'ubandu', 'ucall', 'ud', 'ufind', 'ugadi', 'ugh', 'uh', 'uhhhhrmm', 'uif', 'uin', 'uk', 'ukmobiledate', 'ukp', 'ull', 'ultimate', 'ultimatum', 'umma', 'ummmmmaah', 'un', 'unable', 'unbelievable', 'unbreakable', 'unclaimed', 'uncle', 'unconditionally', 'unconscious', 'unconsciously', 'unconvinced', 'uncountable', 'underdtand', 'understand', 'understanding', 'understood', 'underwear', 'undrstndng', 'unemployed', 'uneventful', 'unfolds', 'unfortunately', 'unhappiness', 'unhappy', 'uni', 'unicef', 'uniform', 'unintentional', 'unintentionally', 'unique', 'unit', 'united', 'univ', 'university', 'unkempt', 'unknown', 'unless', 'unlike', 'unlimited', 'unmits', 'unnecessarily', 'unni', 'unredeemed', 'unsecured', 'unsold', 'unsoldmike', 'unsoldnow', 'unsub', 'unsubscribe', 'untamed', 'unusual', 'uothrwise', 'upcharge', 'upd', 'updat', 'update', 'updatenow', 'upgrade', 'upgrading', 'uphad', 'upload', 'uploaded', 'upnot', 'upon', 'upping', 'ups', 'upset', 'upseti', 'upsetits', 'upstairs', 'upto', 'uptown', 'upyeh', 'ur', 'ure', 'urfeeling', 'urgent', 'urgentbut', 'urgentlyits', 'urgnt', 'urgoin', 'urination', 'urn', 'urself', 'us', 'usb', 'usc', 'use', 'used', 'useful', 'useless', 'user', 'usf', 'usget', 'usher', 'using', 'uslet', 'usmle', 'usno', 'uso', 'usps', 'usual', 'usualiam', 'usually', 'utelecom', 'uterus', 'utter', 'uttered', 'utxt', 'uu', 'uup', 'uve', 'uworld', 'uxxxx', 'uz', 'v', 'vaazhthukkal', 'vague', 'vaguely', 'vai', 'vale', 'valentine', 'valid', 'valuable', 'value', 'valued', 'valuemorning', 'varaya', 'vargu', 'various', 'varma', 'vary', 'vasai', 'vat', 'vatian', 'vava', 'vday', 'vega', 'vegetable', 'veggie', 'vehicle', 'velachery', 'velly', 'velusamy', 'venugopal', 'verified', 'verify', 'verifying', 'version', 'versus', 'vettam', 'vewy', 'via', 'vibrate', 'vibrator', 'victoria', 'vid', 'video', 'videochat', 'videophones', 'videopic', 'videosound', 'videosounds', 'view', 'vijay', 'vijaykanth', 'vikky', 'vikkyim', 'vilikkamt', 'vill', 'villa', 'village', 'violated', 'violence', 'violet', 'vip', 'virgil', 'virgin', 'virtual', 'visionsmscom', 'visit', 'visiting', 'visitneed', 'visitor', 'vital', 'viva', 'viveki', 'vl', 'vldo', 'voda', 'vodafone', 'vodka', 'voice', 'voicemail', 'vomit', 'vomitin', 'vote', 'voted', 'voucher', 'vry', 'vth', 'vu', 'w', 'wa', 'waaaat', 'wad', 'wadebridgei', 'wah', 'wahala', 'wahay', 'waheed', 'waheeda', 'wahleykkumsharing', 'waht', 'wait', 'waited', 'waiti', 'waitin', 'waiting', 'waitshould', 'waitu', 'wake', 'waking', 'wale', 'waliking', 'walk', 'walkabout', 'walked', 'walking', 'wall', 'wallet', 'wallpaper', 'wallpaperall', 'walmart', 'wamma', 'wan', 'wana', 'wanna', 'wannatell', 'want', 'wanted', 'wanting', 'wap', 'waqt', 'ward', 'warm', 'warming', 'warned', 'warner', 'warning', 'warranty', 'warwick', 'washob', 'wasnt', 'waste', 'wasted', 'wasting', 'wat', 'watch', 'watched', 'watchin', 'watching', 'watchng', 'water', 'watevr', 'wating', 'watll', 'watrdayno', 'wats', 'watt', 'waxsto', 'way', 'wb', 'wc', 'weak', 'weakness', 'weapon', 'wear', 'wearing', 'weaseling', 'weather', 'web', 'webadres', 'webeburnin', 'webpage', 'website', 'websitenow', 'wed', 'weddin', 'wedding', 'weddingfriend', 'wednesday', 'wee', 'weed', 'weeddeficient', 'week', 'weekday', 'weekend', 'weekly', 'weekstop', 'weigh', 'weighed', 'weight', 'weighthaha', 'weightloss', 'weird', 'weirdest', 'weirdo', 'weiyi', 'welcome', 'well', 'welli', 'welltake', 'wellyou', 'welp', 'wen', 'wendy', 'wenever', 'went', 'wenwecan', 'wer', 'wereare', 'werebored', 'werent', 'werethe', 'wesley', 'west', 'western', 'westlife', 'westshore', 'wet', 'wetherspoons', 'weve', 'wewa', 'whassup', 'whatever', 'whats', 'whatsup', 'wheat', 'wheel', 'wheellock', 'whenever', 'whenevr', 'whenre', 'whens', 'whereare', 'wherebtw', 'wheres', 'wherever', 'wherres', 'whether', 'whileamp', 'whisper', 'white', 'whn', 'who', 'whole', 'whore', 'whose', 'wi', 'wicked', 'wicket', 'wicklow', 'wid', 'widelivecomindex', 'wif', 'wife', 'wifehow', 'wifi', 'wihtuot', 'wikipediacom', 'wil', 'wild', 'wildest', 'willing', 'willpower', 'win', 'winaweek', 'winawk', 'winawkage', 'wind', 'window', 'wine', 'wined', 'wing', 'wining', 'winner', 'winnersclub', 'winning', 'wipro', 'wiproyou', 'wire', 'wisdom', 'wise', 'wish', 'wisheds', 'wishin', 'wishing', 'wishlist', 'wiskey', 'wit', 'withdraw', 'wither', 'within', 'without', 'witout', 'wiv', 'wk', 'wkend', 'wkent', 'wkg', 'wkly', 'wknd', 'wks', 'wlcome', 'wld', 'wmlid', 'wn', 'wnevr', 'wnt', 'wo', 'woah', 'wocay', 'woke', 'woken', 'woman', 'womdarfull', 'wondar', 'wondarfull', 'wonder', 'wonderful', 'wondering', 'wont', 'woo', 'woodland', 'woohoo', 'woot', 'worc', 'word', 'wordcollect', 'wordsevry', 'wordstart', 'work', 'workin', 'working', 'worklove', 'workout', 'world', 'worldgnun', 'worldvery', 'worm', 'worried', 'worriedx', 'worry', 'worryc', 'worrying', 'worryuse', 'worse', 'worst', 'worth', 'wot', 'wotu', 'wotz', 'would', 'woulda', 'wouldnt', 'wound', 'wow', 'wp', 'wq', 'wr', 'wrc', 'wrd', 'wrecked', 'wrench', 'wrenching', 'wright', 'write', 'writhing', 'wrk', 'wrki', 'wrkin', 'wrking', 'wrks', 'wrnog', 'wrong', 'wrongly', 'wrongtake', 'wt', 'wtc', 'wtf', 'wth', 'wthout', 'wu', 'wud', 'wudnt', 'wuld', 'wuldnt', 'wun', 'www', 'wwwapplausestorecom', 'wwwb', 'wwwbridalpetticoatdreamscouk', 'wwwcashbincouk', 'wwwclubmobycom', 'wwwclubzedcouk', 'wwwcnupdatescomnewsletter', 'wwwcomuknet', 'wwwdbuknet', 'wwwflirtpartyus', 'wwwfullonsmscom', 'wwwgambtv', 'wwwgetzedcouk', 'wwwidewcom', 'wwwldewcom', 'wwwldewcomsubs', 'wwwmovietriviatv', 'wwwmusictrivianet', 'wwworangecoukow', 'wwwphb', 'wwwringtonekingcouk', 'wwwringtonescouk', 'wwwrtfsphostingcom', 'wwwsantacallingcom', 'wwwshortbreaksorguk', 'wwwsmsacubootydelious', 'wwwsmsacunat', 'wwwsmsacunatalie', 'wwwsmsconet', 'wwwtcbiz', 'wwwtelediscountcouk', 'wwwtextcompcom', 'wwwtextpodnet', 'wwwtklscom', 'wwwtxt', 'wwwtxttowincouk', 'wwwwin', 'wx', 'wylie', 'x', 'xafter', 'xam', 'xavier', 'xchat', 'xclusiveclubsaisai', 'xe', 'xh', 'xin', 'xins', 'xmas', 'xoxo', 'xuhui', 'xx', 'xxsp', 'xxx', 'xxxmobilemovieclub', 'xxxmobilemovieclubcomnqjkgighjjgcbl', 'xxxx', 'xxxxx', 'xxxxxx', 'xxxxxxx', 'xxxxxxxxx', 'xxxxxxxxxxxxxx', 'xy', 'ya', 'yagoing', 'yah', 'yahoo', 'yalrigu', 'yalru', 'yam', 'yan', 'yar', 'yard', 'yavnt', 'yaxx', 'yaxxx', 'yay', 'yck', 'yday', 'yeah', 'yeahand', 'year', 'yeesh', 'yeh', 'yelling', 'yellow', 'yen', 'yeovil', 'yep', 'yer', 'yes', 'yesbut', 'yesgauti', 'yeshe', 'yeshere', 'yesim', 'yesmum', 'yessura', 'yest', 'yesterday', 'yet', 'yettys', 'yetunde', 'yf', 'yijue', 'yijuehotmailcom', 'ym', 'ymca', 'yo', 'yoga', 'yogasana', 'yohere', 'yor', 'youany', 'youcarlos', 'youclean', 'youcouk', 'youd', 'youdearwith', 'youdoing', 'youhow', 'youi', 'yould', 'youll', 'youmoney', 'youmy', 'younger', 'youphone', 'youre', 'yourinclusive', 'yourjob', 'youso', 'youthats', 'youto', 'youuuuu', 'youve', 'youwanna', 'youwhen', 'yowifes', 'yoyyooo', 'yr', 'ystrdayice', 'yt', 'yummy', 'yun', 'yunny', 'yuo', 'yuou', 'yup', 'z', 'zahers', 'zealand', 'zebra', 'zed', 'zero', 'zf', 'zindgi', 'zoe', 'zogtorius', 'zoom', 'zouk', 'zyada']\n"
     ]
    }
   ],
   "source": [
    "print(count_vector.get_feature_names())"
   ]
  },
  {
   "cell_type": "code",
   "execution_count": 313,
   "metadata": {},
   "outputs": [],
   "source": [
    "traning_data=count_vector.transform(X_train)\n",
    "testing_data= count_vector.transform(X_test)"
   ]
  },
  {
   "cell_type": "code",
   "execution_count": 315,
   "metadata": {},
   "outputs": [
    {
     "data": {
      "text/plain": [
       "(4457, 6948)"
      ]
     },
     "execution_count": 315,
     "metadata": {},
     "output_type": "execute_result"
    }
   ],
   "source": [
    "traning_data.shape"
   ]
  },
  {
   "cell_type": "markdown",
   "metadata": {},
   "source": [
    "## Modelling "
   ]
  },
  {
   "cell_type": "code",
   "execution_count": 316,
   "metadata": {},
   "outputs": [
    {
     "data": {
      "text/plain": [
       "MultinomialNB()"
      ]
     },
     "execution_count": 316,
     "metadata": {},
     "output_type": "execute_result"
    }
   ],
   "source": [
    "from sklearn.naive_bayes import MultinomialNB\n",
    "naive_bayes = MultinomialNB()\n",
    "naive_bayes.fit(traning_data,y_train)"
   ]
  },
  {
   "cell_type": "code",
   "execution_count": 317,
   "metadata": {},
   "outputs": [],
   "source": [
    "predictions = naive_bayes.predict(testing_data)"
   ]
  },
  {
   "cell_type": "code",
   "execution_count": 318,
   "metadata": {},
   "outputs": [
    {
     "name": "stdout",
     "output_type": "stream",
     "text": [
      "              precision    recall  f1-score   support\n",
      "\n",
      "         ham       0.99      0.99      0.99       976\n",
      "        spam       0.95      0.94      0.94       139\n",
      "\n",
      "    accuracy                           0.99      1115\n",
      "   macro avg       0.97      0.96      0.97      1115\n",
      "weighted avg       0.99      0.99      0.99      1115\n",
      "\n"
     ]
    }
   ],
   "source": [
    "from sklearn.metrics import classification_report, confusion_matrix, accuracy_score\n",
    "score= classification_report(y_test, predictions)\n",
    "print(score)"
   ]
  },
  {
   "cell_type": "code",
   "execution_count": 319,
   "metadata": {},
   "outputs": [
    {
     "name": "stdout",
     "output_type": "stream",
     "text": [
      "[[969   7]\n",
      " [  9 130]]\n"
     ]
    }
   ],
   "source": [
    "print(confusion_matrix(y_test, predictions))"
   ]
  },
  {
   "cell_type": "code",
   "execution_count": 320,
   "metadata": {},
   "outputs": [],
   "source": [
    "train_pred= naive_bayes.predict(traning_data)"
   ]
  },
  {
   "cell_type": "code",
   "execution_count": 321,
   "metadata": {},
   "outputs": [
    {
     "name": "stdout",
     "output_type": "stream",
     "text": [
      "              precision    recall  f1-score   support\n",
      "\n",
      "         ham       1.00      0.99      0.99      3849\n",
      "        spam       0.96      0.97      0.96       608\n",
      "\n",
      "    accuracy                           0.99      4457\n",
      "   macro avg       0.98      0.98      0.98      4457\n",
      "weighted avg       0.99      0.99      0.99      4457\n",
      "\n"
     ]
    }
   ],
   "source": [
    "score_train= classification_report(y_train, train_pred)\n",
    "print(score_train)"
   ]
  },
  {
   "cell_type": "code",
   "execution_count": null,
   "metadata": {},
   "outputs": [],
   "source": []
  }
 ],
 "metadata": {
  "kernelspec": {
   "display_name": "Python 3",
   "language": "python",
   "name": "python3"
  },
  "language_info": {
   "codemirror_mode": {
    "name": "ipython",
    "version": 3
   },
   "file_extension": ".py",
   "mimetype": "text/x-python",
   "name": "python",
   "nbconvert_exporter": "python",
   "pygments_lexer": "ipython3",
   "version": "3.7.4"
  }
 },
 "nbformat": 4,
 "nbformat_minor": 2
}
